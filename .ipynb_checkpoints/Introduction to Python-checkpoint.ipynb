{
 "cells": [
  {
   "cell_type": "markdown",
   "metadata": {},
   "source": [
    "# Introduction to Python"
   ]
  },
  {
   "cell_type": "code",
   "execution_count": 1,
   "metadata": {},
   "outputs": [],
   "source": [
    "#Read in software packages you might use\n",
    "import numpy as np #numpy is great for performing mathematical operations on entire lists\n",
    "import matplotlib.pyplot as plt #matplotlib is great for making quick plots"
   ]
  },
  {
   "cell_type": "code",
   "execution_count": 2,
   "metadata": {},
   "outputs": [],
   "source": [
    "#The Basics"
   ]
  },
  {
   "cell_type": "code",
   "execution_count": 3,
   "metadata": {},
   "outputs": [
    {
     "name": "stdout",
     "output_type": "stream",
     "text": [
      "Hello World\n"
     ]
    }
   ],
   "source": [
    "# This is how you can print something. In this case I am printing a 'string' of characters that\n",
    "#spell Hello World\n",
    "print('Hello World')"
   ]
  },
  {
   "cell_type": "code",
   "execution_count": 4,
   "metadata": {},
   "outputs": [],
   "source": [
    "#You could also set a variable equal to string and print that\n",
    "x='Hello World'"
   ]
  },
  {
   "cell_type": "code",
   "execution_count": 5,
   "metadata": {},
   "outputs": [
    {
     "name": "stdout",
     "output_type": "stream",
     "text": [
      "Hello World\n"
     ]
    }
   ],
   "source": [
    "print(x)"
   ]
  },
  {
   "cell_type": "code",
   "execution_count": 6,
   "metadata": {},
   "outputs": [
    {
     "name": "stdout",
     "output_type": "stream",
     "text": [
      "5 5.0 True\n"
     ]
    }
   ],
   "source": [
    "#In addition to strings, other commonly used data types are integegers, floats, and booleans\n",
    "x_integer=5\n",
    "x_float=5.0\n",
    "x_boolean=(x_integer==5)\n",
    "\n",
    "print(x_integer,x_float,x_boolean)"
   ]
  },
  {
   "cell_type": "code",
   "execution_count": 7,
   "metadata": {},
   "outputs": [
    {
     "name": "stdout",
     "output_type": "stream",
     "text": [
      "10\n"
     ]
    }
   ],
   "source": [
    "#With integers and floats, you can do math\n",
    "print(5+5)"
   ]
  },
  {
   "cell_type": "code",
   "execution_count": 8,
   "metadata": {},
   "outputs": [
    {
     "name": "stdout",
     "output_type": "stream",
     "text": [
      "5.4  multiplied by  6.2  =  33.480000000000004\n"
     ]
    }
   ],
   "source": [
    "#You can also combine multiple things in a print statement\n",
    "x=5.4\n",
    "y=6.2\n",
    "print(x,' multiplied by ',y,' = ',x*y)"
   ]
  },
  {
   "cell_type": "code",
   "execution_count": 9,
   "metadata": {},
   "outputs": [],
   "source": [
    "#A VERY commonly used variable type in python is a list\n",
    "x=[1,2,3,4,5,6]"
   ]
  },
  {
   "cell_type": "code",
   "execution_count": 10,
   "metadata": {},
   "outputs": [
    {
     "name": "stdout",
     "output_type": "stream",
     "text": [
      "1\n",
      "Length of list =  6\n",
      "6\n"
     ]
    }
   ],
   "source": [
    "#To access a specific element of this list, you call it by:\n",
    "print(x[0])\n",
    "print('Length of list = ',len(x))\n",
    "print(x[5])"
   ]
  },
  {
   "cell_type": "code",
   "execution_count": 11,
   "metadata": {},
   "outputs": [
    {
     "name": "stdout",
     "output_type": "stream",
     "text": [
      "[1, 2, 3, 4, 5, 6, 1, 2, 3, 4, 5, 6, 1, 2, 3, 4, 5, 6, 1, 2, 3, 4, 5, 6, 1, 2, 3, 4, 5, 6]\n"
     ]
    }
   ],
   "source": [
    "#Note though that you can't really do math on a list. For example, x*5 gives you the list 5 times. \n",
    "#Addition and subtract does not work\n",
    "print(x*5)"
   ]
  },
  {
   "cell_type": "code",
   "execution_count": 12,
   "metadata": {},
   "outputs": [
    {
     "name": "stdout",
     "output_type": "stream",
     "text": [
      "0 1 1.0\n",
      "1 2 3.0\n",
      "2 3 6.0\n",
      "3 4 10.0\n",
      "4 5 15.0\n",
      "5 6 21.0\n"
     ]
    }
   ],
   "source": [
    "#Lists are commonly used with for and while loops, which allows you to look through the data and perform calculation\n",
    "xsum=0.\n",
    "for i in range(0,len(x)):\n",
    "    xsum=xsum+x[i]\n",
    "    print(i,x[i],xsum)"
   ]
  },
  {
   "cell_type": "code",
   "execution_count": 13,
   "metadata": {},
   "outputs": [
    {
     "name": "stdout",
     "output_type": "stream",
     "text": [
      "0 1 1.0\n",
      "1 2 3.0\n",
      "2 3 6.0\n",
      "3 4 10.0\n",
      "[1.0, 3.0, 6.0, 10.0]\n"
     ]
    }
   ],
   "source": [
    "#Note here I also declaring a list xcumulative and appending to it every time to see how xsum grows\n",
    "xsum=0.\n",
    "xcumulative=[]\n",
    "i=0\n",
    "while xsum<10:\n",
    "    xsum=xsum+x[i]\n",
    "    xcumulative.append(xsum)\n",
    "    print(i,x[i],xsum)\n",
    "    i=i+1\n",
    "print(xcumulative)"
   ]
  },
  {
   "cell_type": "code",
   "execution_count": 14,
   "metadata": {},
   "outputs": [],
   "source": [
    "#If you want to do math on a large set of variable, consider using a numpy array instead\n",
    "#Annoyingly and conusingly the lists and arrays are very similar. Just a different definition"
   ]
  },
  {
   "cell_type": "code",
   "execution_count": 15,
   "metadata": {},
   "outputs": [],
   "source": [
    "x=np.array([1,2,3,4,5,6])"
   ]
  },
  {
   "cell_type": "code",
   "execution_count": 16,
   "metadata": {},
   "outputs": [
    {
     "name": "stdout",
     "output_type": "stream",
     "text": [
      "[ 5 10 15 20 25 30]\n"
     ]
    }
   ],
   "source": [
    "#Now when you do math on the array, every element is affected\n",
    "print(x*5)"
   ]
  },
  {
   "cell_type": "code",
   "execution_count": 17,
   "metadata": {},
   "outputs": [
    {
     "name": "stdout",
     "output_type": "stream",
     "text": [
      "[ 6.  7.  8.  9. 10. 11.]\n"
     ]
    }
   ],
   "source": [
    "#And you can do addition and subtraction\n",
    "y=x+5.\n",
    "print(y)"
   ]
  },
  {
   "cell_type": "code",
   "execution_count": 18,
   "metadata": {},
   "outputs": [
    {
     "name": "stdout",
     "output_type": "stream",
     "text": [
      "1\n"
     ]
    }
   ],
   "source": [
    "#Individual elements of an array are accessed the same way as a list\n",
    "print(x[0])"
   ]
  },
  {
   "cell_type": "code",
   "execution_count": 19,
   "metadata": {},
   "outputs": [
    {
     "name": "stdout",
     "output_type": "stream",
     "text": [
      "0 1 1.0\n",
      "1 2 3.0\n",
      "2 3 6.0\n",
      "3 4 10.0\n",
      "[ 1.  3.  6. 10.]\n"
     ]
    }
   ],
   "source": [
    "#Appending to an array is slighty different\n",
    "xsum=0.\n",
    "xcumulative=np.array([])\n",
    "i=0\n",
    "while xsum<10:\n",
    "    xsum=xsum+x[i]\n",
    "    xcumulative=np.append(xcumulative,xsum)\n",
    "    print(i,x[i],xsum)\n",
    "    i=i+1\n",
    "print(xcumulative)"
   ]
  },
  {
   "cell_type": "code",
   "execution_count": 20,
   "metadata": {},
   "outputs": [
    {
     "name": "stdout",
     "output_type": "stream",
     "text": [
      "21\n",
      "[ 1  3  6 10 15 21]\n"
     ]
    }
   ],
   "source": [
    "#numpy has some really good built in functions\n",
    "print(np.sum(x))\n",
    "print(np.cumsum(x))"
   ]
  },
  {
   "cell_type": "code",
   "execution_count": 21,
   "metadata": {},
   "outputs": [
    {
     "data": {
      "image/png": "[encoded data removed]",
      "text/plain": [
       "<Figure size 432x288 with 1 Axes>"
      ]
     },
     "metadata": {
      "needs_background": "light"
     },
     "output_type": "display_data"
    }
   ],
   "source": [
    "#Array's and list very useful when you want to plot data\n",
    "x=np.array([1,2,3,4,5,6,7])\n",
    "y=np.array([7,6,5,4,3,2,1])\n",
    "\n",
    "plt.scatter(x,y)\n",
    "plt.xlabel('X')\n",
    "plt.ylabel('Y')\n",
    "plt.show()\n",
    "plt.close()"
   ]
  },
  {
   "cell_type": "code",
   "execution_count": 22,
   "metadata": {},
   "outputs": [
    {
     "name": "stdout",
     "output_type": "stream",
     "text": [
      "[ 0.84147098  0.90929743  0.14112001 -0.7568025  -0.95892427 -0.2794155\n",
      "  0.6569866 ]\n",
      "4.0\n",
      "0.003491560876574984\n",
      "[1 2 3 4 5 6 7]\n"
     ]
    }
   ],
   "source": [
    "#Numpy has a LOT of built in functions, like trig, stats, and random number generators.\n",
    "#It also has functions for sorting data!\n",
    "print(np.sin(x))\n",
    "print(np.mean(x))\n",
    "print(np.random.rand())\n",
    "print(np.sort(y))"
   ]
  },
  {
   "cell_type": "code",
   "execution_count": 23,
   "metadata": {},
   "outputs": [
    {
     "name": "stdout",
     "output_type": "stream",
     "text": [
      "[ 1.  2.  3.  4.  5.  6.  7.  8.  9. 10.]\n"
     ]
    }
   ],
   "source": [
    "#I also use linspace a lot to setup an array of numbers linearly spaced between two values\n",
    "#So to get an array of numbers equally spaced between 1 and 10 in 10 steps\n",
    "x=np.linspace(1,10,10)\n",
    "print(x)"
   ]
  },
  {
   "cell_type": "code",
   "execution_count": 24,
   "metadata": {},
   "outputs": [
    {
     "name": "stdout",
     "output_type": "stream",
     "text": [
      "y =  [7 6 5 4 3 2 1]\n",
      "[ True  True False False False False False]\n",
      "The elements in y that are greater than 5 are:  [7 6]\n"
     ]
    }
   ],
   "source": [
    "#Boolean (True/False) arrays also allow you to look at a subset of data. Lets say we want to only look at \n",
    "#value of y that are greater than 5:\n",
    "print('y = ',y)\n",
    "indx=(y>5)\n",
    "print(indx)\n",
    "print('The elements in y that are greater than 5 are: ',y[indx])"
   ]
  },
  {
   "cell_type": "code",
   "execution_count": 25,
   "metadata": {},
   "outputs": [
    {
     "data": {
      "image/png": "[encoded data removed]",
      "text/plain": [
       "<Figure size 432x288 with 1 Axes>"
      ]
     },
     "metadata": {
      "needs_background": "light"
     },
     "output_type": "display_data"
    }
   ],
   "source": [
    "#The same boolean array can be applied to other arrays to similar length, although you really only want to do this\n",
    "#if the data is related\n",
    "\n",
    "#Array's and list very useful when you want to plot data\n",
    "x=np.array([1,2,3,4,5,6,7]) #Months of the years\n",
    "y=np.array([7,6,5,4,3,2,1]) #Temperature\n",
    "\n",
    "indx=(y>5) # Give me the temperature that are greater 5\n",
    "\n",
    "\n",
    "plt.scatter(x[indx],y[indx])\n",
    "plt.xlabel('X')\n",
    "plt.ylabel('Y')\n",
    "plt.show()\n",
    "plt.close()"
   ]
  },
  {
   "cell_type": "code",
   "execution_count": 26,
   "metadata": {},
   "outputs": [],
   "source": [
    "#Libraries\n",
    "#It is also possible to define a library\n",
    "planet_library={}"
   ]
  },
  {
   "cell_type": "code",
   "execution_count": 27,
   "metadata": {},
   "outputs": [],
   "source": [
    "#The advantages of a library is that you can use strings as column labels instead of numbers"
   ]
  },
  {
   "cell_type": "code",
   "execution_count": 28,
   "metadata": {},
   "outputs": [],
   "source": [
    "planet_library['Earth']={'Size':1,'Period':1}\n",
    "planet_library['Mars']={'Size':0.53,'Period':1.9}"
   ]
  },
  {
   "cell_type": "code",
   "execution_count": 29,
   "metadata": {},
   "outputs": [
    {
     "name": "stdout",
     "output_type": "stream",
     "text": [
      "{'Size': 1, 'Period': 1}\n"
     ]
    }
   ],
   "source": [
    "print(planet_library['Earth'])"
   ]
  },
  {
   "cell_type": "code",
   "execution_count": 30,
   "metadata": {},
   "outputs": [
    {
     "name": "stdout",
     "output_type": "stream",
     "text": [
      "1\n"
     ]
    }
   ],
   "source": [
    "print(planet_library['Earth']['Size'])"
   ]
  },
  {
   "cell_type": "code",
   "execution_count": 31,
   "metadata": {},
   "outputs": [
    {
     "name": "stdout",
     "output_type": "stream",
     "text": [
      "{'Size': 0.53, 'Period': 1.9}\n"
     ]
    }
   ],
   "source": [
    "print(planet_library['Mars'])"
   ]
  },
  {
   "cell_type": "code",
   "execution_count": 32,
   "metadata": {},
   "outputs": [],
   "source": [
    "#Functions - if you are doing the same calculation over and over again, it is sometimes helpful to create\n",
    "#a function"
   ]
  },
  {
   "cell_type": "code",
   "execution_count": 33,
   "metadata": {},
   "outputs": [],
   "source": [
    "def square_add_5(x):\n",
    "    y=x**2+5\n",
    "    return y"
   ]
  },
  {
   "cell_type": "code",
   "execution_count": 34,
   "metadata": {},
   "outputs": [
    {
     "name": "stdout",
     "output_type": "stream",
     "text": [
      "9\n"
     ]
    }
   ],
   "source": [
    "x=2\n",
    "print(square_add_5(x))"
   ]
  },
  {
   "cell_type": "code",
   "execution_count": 35,
   "metadata": {},
   "outputs": [],
   "source": [
    "#Functions can also accept numpy arrays, but NOT lists"
   ]
  },
  {
   "cell_type": "code",
   "execution_count": 36,
   "metadata": {},
   "outputs": [
    {
     "ename": "TypeError",
     "evalue": "unsupported operand type(s) for ** or pow(): 'list' and 'int'",
     "output_type": "error",
     "traceback": [
      "\u001b[0;31m---------------------------------------------------------------------------\u001b[0m",
      "\u001b[0;31mTypeError\u001b[0m                                 Traceback (most recent call last)",
      "\u001b[0;32m<ipython-input-36-4a74a83cd960>\u001b[0m in \u001b[0;36m<module>\u001b[0;34m\u001b[0m\n\u001b[1;32m      1\u001b[0m \u001b[0;31m#This won't work, because x is a list\u001b[0m\u001b[0;34m\u001b[0m\u001b[0;34m\u001b[0m\u001b[0;34m\u001b[0m\u001b[0m\n\u001b[1;32m      2\u001b[0m \u001b[0mx\u001b[0m\u001b[0;34m=\u001b[0m\u001b[0;34m[\u001b[0m\u001b[0;36m1\u001b[0m\u001b[0;34m,\u001b[0m\u001b[0;36m2\u001b[0m\u001b[0;34m,\u001b[0m\u001b[0;36m3\u001b[0m\u001b[0;34m,\u001b[0m\u001b[0;36m4\u001b[0m\u001b[0;34m]\u001b[0m\u001b[0;34m\u001b[0m\u001b[0;34m\u001b[0m\u001b[0m\n\u001b[0;32m----> 3\u001b[0;31m \u001b[0mprint\u001b[0m\u001b[0;34m(\u001b[0m\u001b[0msquare_add_5\u001b[0m\u001b[0;34m(\u001b[0m\u001b[0mx\u001b[0m\u001b[0;34m)\u001b[0m\u001b[0;34m)\u001b[0m\u001b[0;34m\u001b[0m\u001b[0;34m\u001b[0m\u001b[0m\n\u001b[0m",
      "\u001b[0;32m<ipython-input-33-f8166fee8ba3>\u001b[0m in \u001b[0;36msquare_add_5\u001b[0;34m(x)\u001b[0m\n\u001b[1;32m      1\u001b[0m \u001b[0;32mdef\u001b[0m \u001b[0msquare_add_5\u001b[0m\u001b[0;34m(\u001b[0m\u001b[0mx\u001b[0m\u001b[0;34m)\u001b[0m\u001b[0;34m:\u001b[0m\u001b[0;34m\u001b[0m\u001b[0;34m\u001b[0m\u001b[0m\n\u001b[0;32m----> 2\u001b[0;31m     \u001b[0my\u001b[0m\u001b[0;34m=\u001b[0m\u001b[0mx\u001b[0m\u001b[0;34m**\u001b[0m\u001b[0;36m2\u001b[0m\u001b[0;34m+\u001b[0m\u001b[0;36m5\u001b[0m\u001b[0;34m\u001b[0m\u001b[0;34m\u001b[0m\u001b[0m\n\u001b[0m\u001b[1;32m      3\u001b[0m     \u001b[0;32mreturn\u001b[0m \u001b[0my\u001b[0m\u001b[0;34m\u001b[0m\u001b[0;34m\u001b[0m\u001b[0m\n",
      "\u001b[0;31mTypeError\u001b[0m: unsupported operand type(s) for ** or pow(): 'list' and 'int'"
     ]
    }
   ],
   "source": [
    "#This won't work, because x is a list\n",
    "x=[1,2,3,4]\n",
    "print(square_add_5(x))"
   ]
  },
  {
   "cell_type": "code",
   "execution_count": 37,
   "metadata": {},
   "outputs": [
    {
     "name": "stdout",
     "output_type": "stream",
     "text": [
      "[ 6  9 14 21]\n"
     ]
    }
   ],
   "source": [
    "#This will work because x is an array\n",
    "x=np.array([1,2,3,4])\n",
    "print(square_add_5(x))"
   ]
  },
  {
   "cell_type": "markdown",
   "metadata": {},
   "source": [
    "This, of course, is just a brief introduction and is only scratching the surface of what python is capable of. Dependiong on everyones interests, we can always dig deeper"
   ]
  },
  {
   "cell_type": "markdown",
   "metadata": {},
   "source": [
    "# Exercises"
   ]
  },
  {
   "cell_type": "code",
   "execution_count": 38,
   "metadata": {},
   "outputs": [],
   "source": [
    "#Lets visualize the difference between the functions y=x, y=x^2, y=x^3, and y=x^4"
   ]
  },
  {
   "cell_type": "code",
   "execution_count": 39,
   "metadata": {},
   "outputs": [
    {
     "name": "stdout",
     "output_type": "stream",
     "text": [
      "[-1.         -0.89473684 -0.78947368 -0.68421053 -0.57894737 -0.47368421\n",
      " -0.36842105 -0.26315789 -0.15789474 -0.05263158  0.05263158  0.15789474\n",
      "  0.26315789  0.36842105  0.47368421  0.57894737  0.68421053  0.78947368\n",
      "  0.89473684  1.        ]\n"
     ]
    }
   ],
   "source": [
    "#Create an array that represents the range of x values we are interested in\n",
    "x=np.linspace(-1,1,20)\n",
    "print(x)"
   ]
  },
  {
   "cell_type": "code",
   "execution_count": 40,
   "metadata": {},
   "outputs": [],
   "source": [
    "def square_variable(x):\n",
    "    y=x*x\n",
    "    return y"
   ]
  },
  {
   "cell_type": "code",
   "execution_count": 41,
   "metadata": {},
   "outputs": [],
   "source": [
    "y=x\n",
    "y2=square_variable(x)\n",
    "y3=x**3.\n",
    "y4=x**4."
   ]
  },
  {
   "cell_type": "code",
   "execution_count": 42,
   "metadata": {},
   "outputs": [
    {
     "data": {
      "image/png": "[encoded data removed]",
      "text/plain": [
       "<Figure size 432x288 with 1 Axes>"
      ]
     },
     "metadata": {
      "needs_background": "light"
     },
     "output_type": "display_data"
    }
   ],
   "source": [
    "plt.plot(x,y,label='y=x')\n",
    "plt.plot(x,y2,label='y=x^2')\n",
    "plt.plot(x,y3,label='y=x^3')\n",
    "plt.plot(x,y4,label='y=x^4')\n",
    "\n",
    "plt.xlabel('X')\n",
    "plt.ylabel('Y')\n",
    "\n",
    "plt.grid()\n",
    "\n",
    "plt.legend()\n",
    "plt.show()\n",
    "plt.close()"
   ]
  },
  {
   "cell_type": "code",
   "execution_count": 43,
   "metadata": {},
   "outputs": [],
   "source": [
    "#What if we try looking at some trig functions. What is the difference between sin, cos and tan?\n",
    "# Hint:\n",
    "# - use numpy for trig functions. So for sin you would use y=np.sin(x)\n",
    "#So lets plot y=np.sin(x), y=np.cos(x), and y=np.tan(x) for -1<x<1"
   ]
  },
  {
   "cell_type": "code",
   "execution_count": 44,
   "metadata": {},
   "outputs": [
    {
     "name": "stdout",
     "output_type": "stream",
     "text": [
      "[-1.         -0.89473684 -0.78947368 -0.68421053 -0.57894737 -0.47368421\n",
      " -0.36842105 -0.26315789 -0.15789474 -0.05263158  0.05263158  0.15789474\n",
      "  0.26315789  0.36842105  0.47368421  0.57894737  0.68421053  0.78947368\n",
      "  0.89473684  1.        ]\n"
     ]
    }
   ],
   "source": [
    "x_degrees=np.linspace(0,360,100)\n",
    "print(x)"
   ]
  },
  {
   "cell_type": "code",
   "execution_count": 45,
   "metadata": {},
   "outputs": [],
   "source": [
    "x_radians=np.radians(x_degrees)"
   ]
  },
  {
   "cell_type": "code",
   "execution_count": 46,
   "metadata": {},
   "outputs": [],
   "source": [
    "y=np.cos(x_radians)"
   ]
  },
  {
   "cell_type": "code",
   "execution_count": 47,
   "metadata": {},
   "outputs": [
    {
     "data": {
      "image/png": "[encoded data removed]",
      "text/plain": [
       "<Figure size 432x288 with 1 Axes>"
      ]
     },
     "metadata": {
      "needs_background": "light"
     },
     "output_type": "display_data"
    }
   ],
   "source": [
    "plt.plot(x_degrees,y,label='y=cos(x)')\n",
    "\n",
    "plt.xlabel('X')\n",
    "plt.ylabel('Y')\n",
    "\n",
    "plt.grid()\n",
    "\n",
    "plt.legend()\n",
    "plt.show()\n",
    "plt.close()"
   ]
  }
 ],
 "metadata": {
  "kernelspec": {
   "display_name": "Python 3",
   "language": "python",
   "name": "python3"
  },
  "language_info": {
   "codemirror_mode": {
    "name": "ipython",
    "version": 3
   },
   "file_extension": ".py",
   "mimetype": "text/x-python",
   "name": "python",
   "nbconvert_exporter": "python",
   "pygments_lexer": "ipython3",
   "version": "3.9.1"
  }
 },
 "nbformat": 4,
 "nbformat_minor": 4
}
