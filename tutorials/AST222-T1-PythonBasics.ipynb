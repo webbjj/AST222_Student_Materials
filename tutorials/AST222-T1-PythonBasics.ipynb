{
 "cells": [
  {
   "cell_type": "markdown",
   "metadata": {},
   "source": [
    "# Jupyter Notebook and Python Basics\n",
    "#### Jessica Campbell (campbell@astro.utoronto.ca)"
   ]
  },
  {
   "cell_type": "markdown",
   "metadata": {},
   "source": [
    "Welcome to the Jupyter notebook interface!\n",
    "\n",
    "As the successor to the Ipython Notebook, the Jupyter notebook is a powerful tool for interactive coding, plotting, and equation/text formatting. The name Jupyter is an acronym of the three core languages it was initially designed for: **JU**lia, **PYT**hon, and **R** (inspired by the planet Jupiter). While the Jupyter notebook now supports [many other languages](https://github.com/jupyter/jupyter/wiki/Jupyter-kernels), this course will be Python focused.\n",
    "\n",
    "Feel free to check out these handy [28 Jupyter Notebook Tips, Tricks, and Shortcuts](https://www.dataquest.io/blog/jupyter-notebook-tips-tricks-shortcuts/) or this [markdown cheatsheet](https://medium.com/ibm-data-science-experience/markdown-for-jupyter-notebooks-cheatsheet-386c05aeebed)."
   ]
  },
  {
   "cell_type": "markdown",
   "metadata": {},
   "source": [
    "### Jupyter basics: Kernels, Markdown Cells, and Code Cells"
   ]
  },
  {
   "cell_type": "markdown",
   "metadata": {},
   "source": [
    "The two main components to the Jupyter Notebook are the **kernels** and **cells**. The **kernel** is the program that runs and interpret's the user's code, which in our case is Python. The **cells** are containers for the user's text to be displayed or code to be executed by the kernel, and make up the body of the notebook. There are two types of cells: \n",
    "\n",
    "* a **markdown cell** contains simple text formatting and displays the text when executed\n",
    "* a **code cell** contains code to be executed in the kernel"
   ]
  },
  {
   "cell_type": "markdown",
   "metadata": {},
   "source": [
    "This is a markdown cell displaying simple text. Standard text formatting options apply to markdown cells, including the ability to create headers, paragraphs, bold and italic text, bulleted and numbered lists, html links, and embedded images. Let's take a look at some examples:"
   ]
  },
  {
   "cell_type": "markdown",
   "metadata": {},
   "source": [
    "# This is a level 1 header\n",
    "## This is a level 2 header\n",
    "### This is a level 3 header\n",
    "#### This is a level 4 header\n",
    "##### This is a level 5 header\n",
    "\n",
    "This is some plain text that forms a paragraph.\n",
    "\n",
    "Here we have some **bold text** as well as some *italic text*. \n",
    "\n",
    "This is anonther way to format __bold text__ and _italic text_. \n",
    "\n",
    "Lists can either be bulleted such as this one:\n",
    "\n",
    "* item 1\n",
    "* item 2\n",
    "* item 3\n",
    "\n",
    "or they can be numbered like this one:\n",
    "\n",
    "1. \n",
    "2. \n",
    "3. \n",
    "\n",
    "If you happen to know LaTex, you can directly input equations: $e^x=\\sum_{i=0}^\\infty \\frac{1}{i!}x^i$\n",
    "\n",
    "It's easy to embed html links [like so](https://xkcd.com/1758/).\n",
    "\n",
    "You can just as easily embed figures and even gifs: ![Alt text](https://i.gifer.com/WME4.gif)"
   ]
  },
  {
   "cell_type": "markdown",
   "metadata": {},
   "source": [
    "Those are markdown cells; what about code cells?"
   ]
  },
  {
   "cell_type": "markdown",
   "metadata": {},
   "source": [
    "As our Jupyter notebook's kernel will be Python, using code cells is very similar to using `ipython` in the terminal. These allow you to define and print variables, innput and export data, perform computations, analyze ad visualize data, and more. Let's start with a simple print statement in a code cell:"
   ]
  },
  {
   "cell_type": "code",
   "execution_count": 1,
   "metadata": {},
   "outputs": [
    {
     "name": "stdout",
     "output_type": "stream",
     "text": [
      "hello world!\n"
     ]
    }
   ],
   "source": [
    "# this is a code cell <-- and that is a comment\n",
    "print(\"hello world!\")"
   ]
  },
  {
   "cell_type": "markdown",
   "metadata": {},
   "source": [
    "There are two things worth noticing here:\n",
    "1. The code's output is displayed beneath the code cell\n",
    "2. Upon running the cell, the label to the left changed from `In []` to `In [1]`\n",
    "\n",
    "The latter is an easy way to distinguish between the two types of cells, as **code cells** have the label `In []` to their left whereas **markdown cells** do not. These labels stand for \"input\" and the subsequent number refers to the order in which the code cells are run by the kernel. Running the code cell again will change `In [1]` to `In [2]`. Try it!"
   ]
  },
  {
   "cell_type": "code",
   "execution_count": 2,
   "metadata": {},
   "outputs": [],
   "source": [
    "# this will put the kernel to sleep for x seconds\n",
    "import time\n",
    "time.sleep(10)"
   ]
  },
  {
   "cell_type": "markdown",
   "metadata": {},
   "source": [
    "There are two more thinngs worth noticing when a kernel is active:\n",
    "\n",
    "1. The label `In []` changes to `In [*]`\n",
    "2. The empty circle at the top right of the page next becomes solid\n",
    "\n",
    "These both make is easy to know when your code is actively running."
   ]
  },
  {
   "cell_type": "markdown",
   "metadata": {},
   "source": [
    "Once you run a code cell, the information is contained within the kernel and is accessible to all code cells. To see this, let's try defining a variable in one code cell and printing it in a separate code cell."
   ]
  },
  {
   "cell_type": "code",
   "execution_count": 3,
   "metadata": {},
   "outputs": [],
   "source": [
    "x = 5"
   ]
  },
  {
   "cell_type": "code",
   "execution_count": 4,
   "metadata": {},
   "outputs": [
    {
     "name": "stdout",
     "output_type": "stream",
     "text": [
      "5\n"
     ]
    }
   ],
   "source": [
    "print(x)"
   ]
  },
  {
   "cell_type": "markdown",
   "metadata": {},
   "source": [
    "There are two important takeaways from this:\n",
    "1. Information executed in a code cell is accessible to **all** code cells\n",
    "2. Working in the Jupyter notebook doesn't have to be linear"
   ]
  },
  {
   "cell_type": "markdown",
   "metadata": {},
   "source": [
    "While this allows you to go back and re-execute an old code cell (e.g., to correct a computational error), this highlights an important feature of the `In []` labels which can help you keep track of the order in which cells have been run.\n",
    "\n",
    "Keep in mind, however, that running code cells non-linearly can cause programming errors. To make sure that your code works linearly, you can try clearing the kernal and re-running all code cells by going to `Kernel` in the toolbar and clicking `Restart & Run All`. This will help to identify any issues."
   ]
  },
  {
   "cell_type": "markdown",
   "metadata": {},
   "source": [
    "### Python Basics: Lists and Arrays"
   ]
  },
  {
   "cell_type": "markdown",
   "metadata": {},
   "source": [
    "Lists and arrays are ways to store N-dimensional sets of information. You can directly populate a list with items:"
   ]
  },
  {
   "cell_type": "code",
   "execution_count": 5,
   "metadata": {},
   "outputs": [
    {
     "name": "stdout",
     "output_type": "stream",
     "text": [
      "[1.0, 'hello', 5]\n"
     ]
    }
   ],
   "source": [
    "my_list = [1.0, \"hello\", 5]\n",
    "print(my_list)"
   ]
  },
  {
   "cell_type": "markdown",
   "metadata": {},
   "source": [
    "Or, you can initiate an empty list using square brackets and then append items to it:"
   ]
  },
  {
   "cell_type": "code",
   "execution_count": 2,
   "metadata": {},
   "outputs": [
    {
     "name": "stdout",
     "output_type": "stream",
     "text": [
      "[1.0, 'hello', 5]\n"
     ]
    }
   ],
   "source": [
    "my_list = []\n",
    "my_list.append(1.0)\n",
    "my_list.append(\"hello\")\n",
    "my_list.append(5)\n",
    "print(my_list)"
   ]
  },
  {
   "cell_type": "markdown",
   "metadata": {},
   "source": [
    "You can also easily turn a list into an array using `numpy` (which needs to be imported, usually as `np`, first)."
   ]
  },
  {
   "cell_type": "code",
   "execution_count": 4,
   "metadata": {},
   "outputs": [
    {
     "data": {
      "text/plain": [
       "array(['1.0', 'hello', '5'], dtype='<U32')"
      ]
     },
     "execution_count": 4,
     "metadata": {},
     "output_type": "execute_result"
    }
   ],
   "source": [
    "import numpy as np # numpy is a math library\n",
    "\n",
    "my_array = np.array(my_list)\n",
    "#print(my_array) # this doesn't look like an array but it is!\n",
    "my_array"
   ]
  },
  {
   "cell_type": "markdown",
   "metadata": {},
   "source": [
    "Notice that turning our list into an array converted all of the items into strings. Τhis is because, while lists can contain different data types (e.g., integers, floats, and strings), arrays can only use one of these at a time and the easiest thing to do with mixed data types is to just turn everything into strings."
   ]
  },
  {
   "cell_type": "markdown",
   "metadata": {},
   "source": [
    "Let's try adding some lists and arrays together."
   ]
  },
  {
   "cell_type": "code",
   "execution_count": 8,
   "metadata": {},
   "outputs": [],
   "source": [
    "list1 = [1.,2.,3.,4.,5.]\n",
    "list2 = [6.,7.,8.,9.,10.]\n",
    "\n",
    "array1 = np.array([1.,2.,3.,4.,5.])\n",
    "array2 = np.array([6.,7.,8.,9.,10.])"
   ]
  },
  {
   "cell_type": "code",
   "execution_count": 9,
   "metadata": {},
   "outputs": [
    {
     "data": {
      "text/plain": [
       "[1.0, 2.0, 3.0, 4.0, 5.0, 6.0, 7.0, 8.0, 9.0, 10.0]"
      ]
     },
     "execution_count": 9,
     "metadata": {},
     "output_type": "execute_result"
    }
   ],
   "source": [
    "list1+list2"
   ]
  },
  {
   "cell_type": "code",
   "execution_count": 10,
   "metadata": {},
   "outputs": [
    {
     "data": {
      "text/plain": [
       "array([ 7.,  9., 11., 13., 15.])"
      ]
     },
     "execution_count": 10,
     "metadata": {},
     "output_type": "execute_result"
    }
   ],
   "source": [
    "array1+array2"
   ]
  },
  {
   "cell_type": "markdown",
   "metadata": {},
   "source": [
    "Notice that the output of adding two lists together is very different than that of adding two arrays together. In the case of adding two lists, the second list gets appended to the first one (called concatenation) to produce a list that is longer than either of the input lists. In the case of arrays, each index gets added together to produce another array of the same size.\n",
    "\n",
    "This highlights an important detail about array arithmetic: each array has to be the same length or the operations don't make sense."
   ]
  },
  {
   "cell_type": "markdown",
   "metadata": {},
   "source": [
    "Some common ways to initiate a python array is using the `arange`, `linspace`, `ones` and `zeros` functions built in to `numpy`:"
   ]
  },
  {
   "cell_type": "code",
   "execution_count": 8,
   "metadata": {},
   "outputs": [
    {
     "data": {
      "text/plain": [
       "array([0, 1, 2, 3, 4])"
      ]
     },
     "execution_count": 8,
     "metadata": {},
     "output_type": "execute_result"
    }
   ],
   "source": [
    "my_array = np.arange(5) # this creates an array of five elements up to (but not including) 5\n",
    "my_array"
   ]
  },
  {
   "cell_type": "code",
   "execution_count": 9,
   "metadata": {},
   "outputs": [
    {
     "data": {
      "text/plain": [
       "array([0, 1, 2, 3, 4])"
      ]
     },
     "execution_count": 9,
     "metadata": {},
     "output_type": "execute_result"
    }
   ],
   "source": [
    "my_array = np.arange(0,5,1) # can also use the (start,stop,step) format which again doesn't include endpoint\n",
    "my_array"
   ]
  },
  {
   "cell_type": "code",
   "execution_count": 10,
   "metadata": {},
   "outputs": [
    {
     "data": {
      "text/plain": [
       "array([1.        , 1.21052632, 1.42105263, 1.63157895, 1.84210526,\n",
       "       2.05263158, 2.26315789, 2.47368421, 2.68421053, 2.89473684,\n",
       "       3.10526316, 3.31578947, 3.52631579, 3.73684211, 3.94736842,\n",
       "       4.15789474, 4.36842105, 4.57894737, 4.78947368, 5.        ])"
      ]
     },
     "execution_count": 10,
     "metadata": {},
     "output_type": "execute_result"
    }
   ],
   "source": [
    "my_array = np.linspace(1,5,20,endpoint=True) # uses (start,stop,num) formatting; option to include endpoint\n",
    "my_array"
   ]
  },
  {
   "cell_type": "code",
   "execution_count": 11,
   "metadata": {},
   "outputs": [
    {
     "data": {
      "text/plain": [
       "array([0., 0., 0., 0., 0.])"
      ]
     },
     "execution_count": 11,
     "metadata": {},
     "output_type": "execute_result"
    }
   ],
   "source": [
    "my_array = np.zeros(5) # this creates an array of five zeros\n",
    "my_array"
   ]
  },
  {
   "cell_type": "code",
   "execution_count": 12,
   "metadata": {},
   "outputs": [
    {
     "data": {
      "text/plain": [
       "array([1., 1., 1., 1., 1.])"
      ]
     },
     "execution_count": 12,
     "metadata": {},
     "output_type": "execute_result"
    }
   ],
   "source": [
    "my_array = np.ones(5) # this creates an array of five ones\n",
    "my_array"
   ]
  },
  {
   "cell_type": "code",
   "execution_count": 13,
   "metadata": {},
   "outputs": [
    {
     "name": "stdout",
     "output_type": "stream",
     "text": [
      "[1. 1. 1. 1. 1.]\n"
     ]
    }
   ],
   "source": [
    "print(my_array)"
   ]
  },
  {
   "cell_type": "markdown",
   "metadata": {},
   "source": [
    "What if we want to change one of the elements in our array? Let's try multiplying the first element by two. Python uses zero-indexing, which means that the first item in a list or array is the zeroth element:"
   ]
  },
  {
   "cell_type": "code",
   "execution_count": 14,
   "metadata": {},
   "outputs": [
    {
     "data": {
      "text/plain": [
       "2.0"
      ]
     },
     "execution_count": 14,
     "metadata": {},
     "output_type": "execute_result"
    }
   ],
   "source": [
    "my_array = np.ones(5)\n",
    "my_array[0]*2."
   ]
  },
  {
   "cell_type": "code",
   "execution_count": 15,
   "metadata": {},
   "outputs": [
    {
     "name": "stdout",
     "output_type": "stream",
     "text": [
      "[1. 1. 1. 1. 1.]\n"
     ]
    }
   ],
   "source": [
    "print(my_array)"
   ]
  },
  {
   "cell_type": "markdown",
   "metadata": {},
   "source": [
    "Notice that this didn't actually change the first element in the array! All we've done is plucked the first element our of our array and multiplied it by two; we haven't actually told Python to update the first element with our new number. To do this, we have to explicitly update the array by assigning the index its number."
   ]
  },
  {
   "cell_type": "code",
   "execution_count": 16,
   "metadata": {},
   "outputs": [
    {
     "name": "stdout",
     "output_type": "stream",
     "text": [
      "[2. 1. 1. 1. 1.]\n"
     ]
    }
   ],
   "source": [
    "my_array[0] = my_array[0]*2.\n",
    "print(my_array)"
   ]
  },
  {
   "cell_type": "markdown",
   "metadata": {},
   "source": [
    "Alternatively, we can use the notation `*=` which means to multiply _and set_ the value (can similarly use `+=`, `-=`, `/=`)."
   ]
  },
  {
   "cell_type": "code",
   "execution_count": 17,
   "metadata": {},
   "outputs": [
    {
     "name": "stdout",
     "output_type": "stream",
     "text": [
      "[4. 1. 1. 1. 1.]\n"
     ]
    }
   ],
   "source": [
    "my_array[0]*=2.\n",
    "print(my_array)"
   ]
  },
  {
   "cell_type": "markdown",
   "metadata": {},
   "source": [
    "We can do very similar things with 2D `numpy` arrays using the `zeros` and `ones` functions by passing a `shape` keyword to specify the array size we want:"
   ]
  },
  {
   "cell_type": "code",
   "execution_count": 18,
   "metadata": {},
   "outputs": [
    {
     "name": "stdout",
     "output_type": "stream",
     "text": [
      "[[0. 0. 0. 0. 0.]\n",
      " [0. 0. 0. 0. 0.]\n",
      " [0. 0. 0. 0. 0.]\n",
      " [0. 0. 0. 0. 0.]\n",
      " [0. 0. 0. 0. 0.]]\n"
     ]
    }
   ],
   "source": [
    "my_array = np.zeros(shape=(5,5)) # this creates a 5x5 array of five zeros\n",
    "print(my_array)"
   ]
  },
  {
   "cell_type": "code",
   "execution_count": 19,
   "metadata": {},
   "outputs": [
    {
     "name": "stdout",
     "output_type": "stream",
     "text": [
      "[[1. 1. 1. 1. 1.]\n",
      " [1. 1. 1. 1. 1.]\n",
      " [1. 1. 1. 1. 1.]\n",
      " [1. 1. 1. 1. 1.]\n",
      " [1. 1. 1. 1. 1.]]\n"
     ]
    }
   ],
   "source": [
    "my_array = np.ones(shape=(5,5)) # this creates a 5x5 array of five ones\n",
    "print(my_array)"
   ]
  },
  {
   "cell_type": "markdown",
   "metadata": {},
   "source": [
    "Indexing is slightly different for 2D arrays because there is another dimension to consider. If we want to grab a specific element in our 2D array, we'll need to index **both** dimensions of the array. A 2D array must be indexed by the row first (or yth element) followed by the column (or xth element) in the same way that we index 2D matrices (except here we start counting at zero instead of one). For example, let's multiply the (2,3) element by 2:"
   ]
  },
  {
   "cell_type": "code",
   "execution_count": 20,
   "metadata": {},
   "outputs": [
    {
     "name": "stdout",
     "output_type": "stream",
     "text": [
      "[[1. 1. 1. 1. 1.]\n",
      " [1. 1. 2. 1. 1.]\n",
      " [1. 1. 1. 1. 1.]\n",
      " [1. 1. 1. 1. 1.]\n",
      " [1. 1. 1. 1. 1.]]\n"
     ]
    }
   ],
   "source": [
    "my_array[1,2] *= 2.\n",
    "print(my_array)"
   ]
  },
  {
   "cell_type": "markdown",
   "metadata": {},
   "source": [
    "If we want to iterate through each element in the array, we can use a `for loop`. As a basic example, let's loop through each element in a 1D array first:"
   ]
  },
  {
   "cell_type": "code",
   "execution_count": 21,
   "metadata": {},
   "outputs": [
    {
     "name": "stdout",
     "output_type": "stream",
     "text": [
      "0\n",
      "1\n",
      "2\n",
      "3\n",
      "4\n"
     ]
    }
   ],
   "source": [
    "for i in np.arange(5):\n",
    "    print(i)"
   ]
  },
  {
   "cell_type": "markdown",
   "metadata": {},
   "source": [
    "We can also do this in 2D by first iterating through each of the rows (y elements) followed by iterating through each of the columns (x elements):"
   ]
  },
  {
   "cell_type": "code",
   "execution_count": 22,
   "metadata": {},
   "outputs": [
    {
     "name": "stdout",
     "output_type": "stream",
     "text": [
      "0 0\n",
      "1 0\n",
      "2 0\n",
      "0 1\n",
      "1 1\n",
      "2 1\n",
      "0 2\n",
      "1 2\n",
      "2 2\n"
     ]
    }
   ],
   "source": [
    "for j in np.arange(3): # iterate through rows / y elements\n",
    "    for i in np.arange(3): # iterate through columns / x elements\n",
    "        print(i,j)"
   ]
  },
  {
   "cell_type": "markdown",
   "metadata": {},
   "source": [
    "We can apply this to our 2D array by utilizing the `shape` of our array:"
   ]
  },
  {
   "cell_type": "code",
   "execution_count": 23,
   "metadata": {},
   "outputs": [
    {
     "name": "stdout",
     "output_type": "stream",
     "text": [
      "[[2. 2. 2. 2. 2.]\n",
      " [2. 2. 4. 2. 2.]\n",
      " [2. 2. 2. 2. 2.]\n",
      " [2. 2. 2. 2. 2.]\n",
      " [2. 2. 2. 2. 2.]]\n"
     ]
    }
   ],
   "source": [
    "for j in np.arange(my_array.shape[0]): # iterate through rows / y elements\n",
    "    for i in np.arange(my_array.shape[1]): # iterate through columns / x elements\n",
    "        my_array[j,i] *= 2.\n",
    "print(my_array)"
   ]
  },
  {
   "cell_type": "markdown",
   "metadata": {},
   "source": [
    "### Python Basics: Functions"
   ]
  },
  {
   "cell_type": "markdown",
   "metadata": {},
   "source": [
    "Functions are an important tool used in Python which performs an action; but only when called upon. They are initiated with the `def` command and require a set of parenthesis `()` followed by a colon `:`. The following functionn, which we will creatively call `my_function()`, will perform the simple task of a print statement."
   ]
  },
  {
   "cell_type": "code",
   "execution_count": 53,
   "metadata": {},
   "outputs": [],
   "source": [
    "def my_function():\n",
    "    '''\n",
    "    This is my function.\n",
    "    '''\n",
    "    \n",
    "    print(\"Hello world!\")"
   ]
  },
  {
   "cell_type": "markdown",
   "metadata": {},
   "source": [
    "Notice how running the code cell didn't return our print statement like before. To execute a function, _it must be called upon_."
   ]
  },
  {
   "cell_type": "code",
   "execution_count": 54,
   "metadata": {},
   "outputs": [
    {
     "name": "stdout",
     "output_type": "stream",
     "text": [
      "Hello world!\n"
     ]
    }
   ],
   "source": [
    "my_function()"
   ]
  },
  {
   "cell_type": "markdown",
   "metadata": {},
   "source": [
    "Functions commonly take inputs which are defined in the parenthesis and return an output. Let's redefine our function to take an input $x$ and return $y=x^2$:"
   ]
  },
  {
   "cell_type": "code",
   "execution_count": 61,
   "metadata": {},
   "outputs": [],
   "source": [
    "def my_function(x):\n",
    "    '''\n",
    "    This is my function.\n",
    "    '''\n",
    "    \n",
    "    y = x**2.\n",
    "    \n",
    "    return y"
   ]
  },
  {
   "cell_type": "markdown",
   "metadata": {},
   "source": [
    "Calling our function and defining our input as $x=2$ returns $x^2$:"
   ]
  },
  {
   "cell_type": "code",
   "execution_count": 62,
   "metadata": {},
   "outputs": [
    {
     "data": {
      "text/plain": [
       "4.0"
      ]
     },
     "execution_count": 62,
     "metadata": {},
     "output_type": "execute_result"
    }
   ],
   "source": [
    "my_function(2.)"
   ]
  },
  {
   "cell_type": "markdown",
   "metadata": {},
   "source": [
    "When our function outputs a `return`, we can assign this to a variable to collect and re-use it. For example, we can assign the output from the above function to a variable called `y` for reuse:"
   ]
  },
  {
   "cell_type": "code",
   "execution_count": 63,
   "metadata": {},
   "outputs": [],
   "source": [
    "y = my_function(2.)"
   ]
  },
  {
   "cell_type": "markdown",
   "metadata": {},
   "source": [
    "Notice how there was no return this time. That is because the output is saved within our new variable `y`. We can run a print statement to see what our variable contains:"
   ]
  },
  {
   "cell_type": "code",
   "execution_count": 64,
   "metadata": {},
   "outputs": [
    {
     "name": "stdout",
     "output_type": "stream",
     "text": [
      "4.0\n"
     ]
    }
   ],
   "source": [
    "print(y)"
   ]
  },
  {
   "cell_type": "markdown",
   "metadata": {},
   "source": [
    "We can even write functions to have multiple outputs. Let's re-work our function to output, say, three returns:"
   ]
  },
  {
   "cell_type": "code",
   "execution_count": 67,
   "metadata": {},
   "outputs": [],
   "source": [
    "def my_function(x):\n",
    "    '''\n",
    "    This is my function.\n",
    "    '''\n",
    "    \n",
    "    y1 = x\n",
    "    y2 = x**2.\n",
    "    y3 = x**3.\n",
    "    \n",
    "    return y1,y2,y3"
   ]
  },
  {
   "cell_type": "markdown",
   "metadata": {},
   "source": [
    "To collect all three outputs, we'll need to assign -- you guessed it -- three variables to the return:"
   ]
  },
  {
   "cell_type": "code",
   "execution_count": 76,
   "metadata": {},
   "outputs": [],
   "source": [
    "y1,y2,y3 = my_function(2.)"
   ]
  },
  {
   "cell_type": "markdown",
   "metadata": {},
   "source": [
    "Sometimes we'll want to use a throwaway variable when we don't necessarily need the entirety of an output. This is what the `_` was created for! Say we only needed the first output, we can use a throwaway variable for the other two:"
   ]
  },
  {
   "cell_type": "markdown",
   "metadata": {},
   "source": [
    "Alternatively, if we only needed the second:"
   ]
  },
  {
   "cell_type": "code",
   "execution_count": 69,
   "metadata": {},
   "outputs": [],
   "source": [
    "_,y2,_ = my_function(2.)"
   ]
  },
  {
   "cell_type": "markdown",
   "metadata": {},
   "source": [
    "Or, lastly, the third:"
   ]
  },
  {
   "cell_type": "code",
   "execution_count": 70,
   "metadata": {},
   "outputs": [],
   "source": [
    "_,_,y3 = my_function(2.)"
   ]
  },
  {
   "cell_type": "markdown",
   "metadata": {},
   "source": [
    "Re-working functions is a good example of where you are likely to go back in your Jupyter notebook to make edits, just make sure to run the cell when you do!"
   ]
  },
  {
   "cell_type": "markdown",
   "metadata": {},
   "source": [
    "### Plotting your Data"
   ]
  },
  {
   "cell_type": "markdown",
   "metadata": {},
   "source": [
    "In addition to running computations on data, you are likely going to want to visualize your data as well. First, let's create some data of `x` and `y` points:"
   ]
  },
  {
   "cell_type": "code",
   "execution_count": 12,
   "metadata": {},
   "outputs": [],
   "source": [
    "x = np.linspace(0.0, 5.0)         # this creates an array of x-points\n",
    "y = np.cos(2.*np.pi*x)*np.exp(-x) # this creates an array of y-points"
   ]
  },
  {
   "cell_type": "markdown",
   "metadata": {},
   "source": [
    "Now, to visualize!"
   ]
  },
  {
   "cell_type": "code",
   "execution_count": 13,
   "metadata": {},
   "outputs": [],
   "source": [
    "import matplotlib.pyplot as plt # matplotlib is used for plotting routines"
   ]
  },
  {
   "cell_type": "markdown",
   "metadata": {},
   "source": [
    "It's very common to import packages by re-naming them to something shorter and simpler. Since we've imported `matplotlib.pyplot` as `plt`, this means that whenever we want to use this package we only have to call `plt` rather than having to type out the full package name every single time. You'll notice that there are common ways to refer to other packages as well, including referring to `numpy` as `np`, as we previously did."
   ]
  },
  {
   "cell_type": "code",
   "execution_count": 14,
   "metadata": {},
   "outputs": [
    {
     "data": {
      "image/png": "[encoded data removed]",
      "text/plain": [
       "<Figure size 432x288 with 1 Axes>"
      ]
     },
     "metadata": {
      "needs_background": "light"
     },
     "output_type": "display_data"
    }
   ],
   "source": [
    "fig  = plt.figure()      # this initializes the figure and calls it \"fig\"\n",
    "plt.plot(x,y,\"o-\")       # this plots y as a function of x -- notice how x goes first!\n",
    "plt.show()               # this asks the kernel to show the results"
   ]
  },
  {
   "cell_type": "markdown",
   "metadata": {},
   "source": [
    "Let's add some axis labels and a title to the figure:"
   ]
  },
  {
   "cell_type": "code",
   "execution_count": 15,
   "metadata": {},
   "outputs": [
    {
     "data": {
      "image/png": "[encoded data removed]",
      "text/plain": [
       "<Figure size 432x288 with 1 Axes>"
      ]
     },
     "metadata": {
      "needs_background": "light"
     },
     "output_type": "display_data"
    }
   ],
   "source": [
    "fig  = plt.figure()       # this initializes the figure and calls it \"fig\"\n",
    "plt.plot(x,y,\"o-\")        # this plots y as a function of x -- notice how x goes first!\n",
    "plt.xlabel(\"x\")           # x-label\n",
    "plt.ylabel(\"y\")           # y-label\n",
    "plt.title(\"My title\")     # title\n",
    "plt.show()                # this asks the kernel to show the results"
   ]
  },
  {
   "cell_type": "markdown",
   "metadata": {},
   "source": [
    "You can even use LaTeX in your labels! To do this you'll just need to add the `$` signs like you normally would:"
   ]
  },
  {
   "cell_type": "code",
   "execution_count": 16,
   "metadata": {},
   "outputs": [
    {
     "data": {
      "image/png": "[encoded data removed]",
      "text/plain": [
       "<Figure size 432x288 with 1 Axes>"
      ]
     },
     "metadata": {
      "needs_background": "light"
     },
     "output_type": "display_data"
    }
   ],
   "source": [
    "fig  = plt.figure()                  # this initializes the figure and calls it \"fig\"\n",
    "plt.plot(x,y,\"o-\")                   # this plots y as a function of x -- notice how x goes first!\n",
    "plt.xlabel(\"$x$\")                    # x-label\n",
    "plt.ylabel(\"$y=\\cos(2\\pi x)e^{-x}$\") # y-label\n",
    "plt.title(\"My title\")                # title\n",
    "plt.show()                           # this asks the kernel to show the results"
   ]
  },
  {
   "cell_type": "markdown",
   "metadata": {},
   "source": [
    "Notice how you didn't need to import `numpy` or `matplotlib` again. Once you import them into the kernel, that information will be accessible until you shut down your notebook. This is similiar to how we nonticed previously that running a code cell allows the information to be accessible to **all** code cells."
   ]
  },
  {
   "cell_type": "markdown",
   "metadata": {},
   "source": [
    "Matplotlib also allows you to make subplots:"
   ]
  },
  {
   "cell_type": "code",
   "execution_count": 39,
   "metadata": {},
   "outputs": [
    {
     "data": {
      "image/png": "[encoded data removed]",
      "text/plain": [
       "<Figure size 432x288 with 2 Axes>"
      ]
     },
     "metadata": {
      "needs_background": "light"
     },
     "output_type": "display_data"
    }
   ],
   "source": [
    "fig  = plt.figure()                  # this initializes the figure and calls it \"fig\"\n",
    "# first subplot\n",
    "ax1  = fig.add_subplot(121)          # this adds the first subplot\n",
    "plt.plot(x,y,\"o-\")                   # this plots y as a function of x -- notice how x goes first!\n",
    "plt.xlabel(\"$x$\")                    # x-label\n",
    "plt.ylabel(\"$y=\\cos(2\\pi x)e^{-x}$\") # y-label\n",
    "plt.title(\"Title 1\")                 # title\n",
    "# second subplot\n",
    "ax2  = fig.add_subplot(122)          # this adds the second subplot\n",
    "plt.plot(x,y,\"o-\")                   # this plots y as a function of x -- notice how x goes first!\n",
    "plt.xlabel(\"$x$\")                    # x-label\n",
    "plt.ylabel(\"$y=\\cos(2\\pi x)e^{-x}$\") # y-label\n",
    "plt.title(\"Title 2\")                 # title\n",
    "plt.show()                           # this asks the kernel to show the results"
   ]
  },
  {
   "cell_type": "markdown",
   "metadata": {},
   "source": [
    "Things are a little cramped, so let's change the figure size in the first line:"
   ]
  },
  {
   "cell_type": "code",
   "execution_count": 40,
   "metadata": {},
   "outputs": [
    {
     "data": {
      "image/png": "[encoded data removed]",
      "text/plain": [
       "<Figure size 1080x360 with 2 Axes>"
      ]
     },
     "metadata": {
      "needs_background": "light"
     },
     "output_type": "display_data"
    }
   ],
   "source": [
    "fig  = plt.figure(figsize=(15,5))    # this initializes the figure and calls it \"fig\"\n",
    "# first subplot\n",
    "ax1  = fig.add_subplot(121)          # this adds the first subplot\n",
    "plt.plot(x,y,\"o-\")                   # this plots y as a function of x -- notice how x goes first!\n",
    "plt.xlabel(\"$x$\")                    # x-label\n",
    "plt.ylabel(\"$y=\\cos(2\\pi x)e^{-x}$\") # y-label\n",
    "plt.title(\"Title 1\")                 # title\n",
    "# second subplot\n",
    "ax2  = fig.add_subplot(122)          # this adds the second subplot\n",
    "plt.plot(x,y,\"o-\")                   # this plots y as a function of x -- notice how x goes first!\n",
    "plt.xlabel(\"$x$\")                    # x-label\n",
    "plt.ylabel(\"$y=\\cos(2\\pi x)e^{-x}$\") # y-label\n",
    "plt.title(\"Title 2\")                 # title\n",
    "plt.show()                           # this asks the kernel to show the results"
   ]
  },
  {
   "cell_type": "markdown",
   "metadata": {},
   "source": [
    "Much better!"
   ]
  },
  {
   "cell_type": "markdown",
   "metadata": {},
   "source": [
    "You can even use functions for your plotting routines. Let's create a function called `myplot` to input data `x` and `y` along with the axis labels `xlabel` and `ylabel` and a title `title`:"
   ]
  },
  {
   "cell_type": "code",
   "execution_count": 17,
   "metadata": {},
   "outputs": [],
   "source": [
    "def myplot(x,y,xlabel,ylabel,title):\n",
    "    '''\n",
    "    '''\n",
    "    \n",
    "    fig  = plt.figure()\n",
    "    plt.plot(x,y,\"o-\")\n",
    "    plt.xlabel(xlabel)\n",
    "    plt.ylabel(ylabel)\n",
    "    plt.title(title)\n",
    "    plt.show()"
   ]
  },
  {
   "cell_type": "markdown",
   "metadata": {},
   "source": [
    "Let's now call this function on the same data we've been plotting and see what the output is:"
   ]
  },
  {
   "cell_type": "code",
   "execution_count": 18,
   "metadata": {},
   "outputs": [
    {
     "data": {
      "image/png": "[encoded data removed]",
      "text/plain": [
       "<Figure size 432x288 with 1 Axes>"
      ]
     },
     "metadata": {
      "needs_background": "light"
     },
     "output_type": "display_data"
    }
   ],
   "source": [
    "myplot(x,y,\"$x$\",\"$y=\\cos(2\\pi x)e^{-x}$\",\"My Title\")"
   ]
  },
  {
   "cell_type": "markdown",
   "metadata": {},
   "source": [
    "Voila!"
   ]
  },
  {
   "cell_type": "markdown",
   "metadata": {},
   "source": [
    "### Astronomical Constants, Physical Constants, and Unit Conversions"
   ]
  },
  {
   "cell_type": "markdown",
   "metadata": {},
   "source": [
    "Since there are many astronomical and physical constants that are needed for our calculations, `astropy` is a relevant package worth knowing about. There are many things that `astropy` can be used for but we will focus on the use of astronomial and physical constants in the `constants` subpackage. From the [astropy.constants webpage](https://docs.astropy.org/en/stable/constants/) you can see that there are many contants available which are outlined below:"
   ]
  },
  {
   "cell_type": "markdown",
   "metadata": {},
   "source": [
    "|   Name   |      Value     | Unit         |                  Description                    |\n",
    "|----------|----------------|--------------|:------------------------------------------------|\n",
    "|     `G`    | 6.6743e-11     | m3 / (kg s2) |  Gravitational constant                         |\n",
    "|   `N_A`    | 6.02214076e+23 | 1 / (mol)    |  Avogadro’s number                              |\n",
    "|     `R`    | 8.31446262     | J / (K mol)  |  Gas constant                                   |\n",
    "|   `Ryd`    | 10973731.6     | 1 / (m)      |  Rydberg constant                               |\n",
    "|    `a0`    | 5.29177211e-11 | m            |  Bohr radius                                    |\n",
    "|  `alpha`   | 0.00729735257  |              |  Fine-structure constant                        |\n",
    "|   `atm`    | 101325         | Pa           |  Standard atmosphere                            |\n",
    "|  `b_wien`  | 0.00289777196  | m K          |  Wien wavelength displacement law constant      |\n",
    "|    `c`     | 299792458      | m / (s)      |  Speed of light in vacuum                       |\n",
    "|    `e`     | 1.60217663e-19 | C            |  Electron charge                                |\n",
    "|   `eps0`   | 8.85418781e-12 | F/m          |  Vacuum electric permittivity                   |\n",
    "|    `g0`    | 9.80665        | m / s2       |  Standard acceleration of gravity               |\n",
    "|    `h`     | 6.62607015e-34 | J s          |  Planck constant                                |\n",
    "|   `hbar`   | 1.05457182e-34 | J s          |  Reduced Planck constant                        |\n",
    "|   `k_B`    | 1.380649e-23   | J / (K)      |  Boltzmann constant                             |\n",
    "|   `m_e`    | 9.1093837e-31  | kg           |  Electron mass                                  |\n",
    "|   `m_n`    | 1.6749275e-27  | kg           |  Neutron mass                                   |\n",
    "|   `m_p`    | 1.67262192e-27 | kg           |  Proton mass                                    |\n",
    "|   `mu0`    | 1.25663706e-06 | N/A2         |  Vacuum magnetic permeability                   |\n",
    "|   `muB`    | 9.27401008e-24 | J/T          |  Bohr magneton                                  |\n",
    "| `sigma_T`  | 6.65245873e-29 | m2           |  Thomson scattering cross-section               |\n",
    "| `sigma_sb` | 5.67037442e-08 | W / (K4 m2)  |  Stefan-Boltzmann constant                      |\n",
    "|    `u`     | 1.66053907e-27 | kg           |  Atomic mass                                    |\n",
    "| `GM_earth` | 3.986004e+14   | m3 / (s2)    |  Nominal Earth mass parameter                   |\n",
    "|  `GM_jup`  | 1.2668653e+17  | m3 / (s2)    |  Nominal Jupiter mass parameter                 |\n",
    "|  `GM_sun`  | 1.3271244e+20  | m3 / (s2)    |  Nominal solar mass parameter                   |\n",
    "|  `L_bol0`  | 3.0128e+28     | W            |  Luminosity for absolute bolometric magnitude 0 |\n",
    "|  `L_sun`   | 3.828e+26      | W            |  Nominal solar luminosity                       |\n",
    "|  `M_earth` | 5.97216787e+24 | kg           |  Earth mass                                     |\n",
    "|   `M_jup`  | 1.8981246e+27  | kg           |  Jupiter mass                                   |\n",
    "|   `M_sun`  | 1.98840987e+30 | kg           |  Solar mass                                     |\n",
    "|  `R_earth` | 6378100        | m            |  Nominal Earth equatorial radius                |\n",
    "|   `R_jup`  | 71492000       | m            |  Nominal Jupiter equatorial radius              |\n",
    "|   `R_sun`  | 695700000      | m            |  Nominal solar radius                           |\n",
    "|    `au`    | 1.49597871e+11 | m            |  Astronomical Unit                              |\n",
    "|   `kpc`    | 3.08567758e+19 | m            |  Kiloparsec                                     |\n",
    "|    `pc`    | 3.08567758e+16 | m            |  Parsec                                         |"
   ]
  },
  {
   "cell_type": "markdown",
   "metadata": {},
   "source": [
    "It's easiest to see how this works by looking at an example. Let's start by taking a look at one of the most common constants, the solar mass. We'll start by importing the `astropy.constants` subpackage:"
   ]
  },
  {
   "cell_type": "code",
   "execution_count": 43,
   "metadata": {},
   "outputs": [],
   "source": [
    "from astropy import constants as const"
   ]
  },
  {
   "cell_type": "markdown",
   "metadata": {},
   "source": [
    "To extract the constants that we want, we'll call them from the subpackage which we've redefined as `const`. From the first column in the table above, you'll see that the solar mass constant has the name `M_sun` which can be used to pull this information like so:"
   ]
  },
  {
   "cell_type": "code",
   "execution_count": 44,
   "metadata": {},
   "outputs": [
    {
     "data": {
      "text/latex": [
       "$1.9884099 \\times 10^{30} \\; \\mathrm{kg}$"
      ],
      "text/plain": [
       "<<class 'astropy.constants.iau2015.IAU2015'> name='Solar mass' value=1.988409870698051e+30 uncertainty=4.468805426856864e+25 unit='kg' reference='IAU 2015 Resolution B 3 + CODATA 2018'>"
      ]
     },
     "execution_count": 44,
     "metadata": {},
     "output_type": "execute_result"
    }
   ],
   "source": [
    "const.M_sun"
   ]
  },
  {
   "cell_type": "markdown",
   "metadata": {},
   "source": [
    "Notice how `astropy.constants` not only provides the value of the constant but provides the units as well. This will be extremely handy when working through calculations to make sure that your units are consistent (more on this after). If you only want the value of your constant you can drop the units by calling `.value`:"
   ]
  },
  {
   "cell_type": "code",
   "execution_count": 45,
   "metadata": {},
   "outputs": [
    {
     "data": {
      "text/plain": [
       "1.988409870698051e+30"
      ]
     },
     "execution_count": 45,
     "metadata": {},
     "output_type": "execute_result"
    }
   ],
   "source": [
    "const.M_sun.value"
   ]
  },
  {
   "cell_type": "markdown",
   "metadata": {},
   "source": [
    "Alternatively, you can also pull just the dimensions from the constant:"
   ]
  },
  {
   "cell_type": "code",
   "execution_count": 46,
   "metadata": {},
   "outputs": [
    {
     "data": {
      "text/latex": [
       "$\\mathrm{kg}$"
      ],
      "text/plain": [
       "Unit(\"kg\")"
      ]
     },
     "execution_count": 46,
     "metadata": {},
     "output_type": "execute_result"
    }
   ],
   "source": [
    "const.M_sun.unit"
   ]
  },
  {
   "cell_type": "markdown",
   "metadata": {},
   "source": [
    "Having the units accessible is useful for a couple of reasons. For one, you can easily convert from one set of units to another. As you can see from above, the solar mass constant is in the units of kilograms but it's simple to convert this to grams:"
   ]
  },
  {
   "cell_type": "code",
   "execution_count": 47,
   "metadata": {},
   "outputs": [
    {
     "data": {
      "text/latex": [
       "$1.9884099 \\times 10^{33} \\; \\mathrm{g}$"
      ],
      "text/plain": [
       "<Quantity 1.98840987e+33 g>"
      ]
     },
     "execution_count": 47,
     "metadata": {},
     "output_type": "execute_result"
    }
   ],
   "source": [
    "const.M_sun.to(\"g\")"
   ]
  },
  {
   "cell_type": "markdown",
   "metadata": {},
   "source": [
    "While this is a simple example, its strength lies in the ability to change any quantity from one set of units to another so long as they are consistent."
   ]
  },
  {
   "cell_type": "markdown",
   "metadata": {},
   "source": [
    "If you're working with scalars for which you'd like to add units to, you can also do this with `astropy` using another subpackage called `units` which we can import like so:"
   ]
  },
  {
   "cell_type": "code",
   "execution_count": 19,
   "metadata": {},
   "outputs": [],
   "source": [
    "from astropy import units as u"
   ]
  },
  {
   "cell_type": "markdown",
   "metadata": {},
   "source": [
    "Say we have a variable $r$ which has a value of 10 km, we can add units by multiplying our variable with the units we want to add:"
   ]
  },
  {
   "cell_type": "code",
   "execution_count": 20,
   "metadata": {},
   "outputs": [
    {
     "name": "stdout",
     "output_type": "stream",
     "text": [
      "10.0 km\n"
     ]
    }
   ],
   "source": [
    "r = 10. * u.kilometer\n",
    "print(r)"
   ]
  },
  {
   "cell_type": "markdown",
   "metadata": {},
   "source": [
    "Let's see how all of this works together by calculating the **solar constant** as an example."
   ]
  },
  {
   "cell_type": "code",
   "execution_count": 50,
   "metadata": {},
   "outputs": [
    {
     "name": "stdout",
     "output_type": "stream",
     "text": [
      "The solar luminosity is 3.828e+26 in units of W\n",
      "The Earth-moon distance is 149597870700.0 in units of m\n"
     ]
    }
   ],
   "source": [
    "L_sun = const.L_sun  # solar luminosity\n",
    "r     = const.au     # distance between the Earth and Sun\n",
    "\n",
    "# print to double-check units\n",
    "print(\"The solar luminosity is %s in units of %s\" % (L_sun.value,L_sun.unit))\n",
    "print(\"The Earth-moon distance is %s in units of %s\" % (r.value,r.unit))"
   ]
  },
  {
   "cell_type": "markdown",
   "metadata": {},
   "source": [
    "The solar luminosity units are in Watts, but the Earth-Moon distance is in $\\mathrm{km}$ which will need to be converted to $\\mathrm{cm}$ first."
   ]
  },
  {
   "cell_type": "code",
   "execution_count": 51,
   "metadata": {},
   "outputs": [
    {
     "name": "stdout",
     "output_type": "stream",
     "text": [
      "0.13611664654085756 W / cm2\n"
     ]
    }
   ],
   "source": [
    "F = L_sun/(4.*np.pi*r.to(\"cm\")**2.)\n",
    "\n",
    "print(F)"
   ]
  },
  {
   "cell_type": "markdown",
   "metadata": {},
   "source": [
    "As you can see, the units are conveninently followed through when they're used in equations. However, these units are currently in $\\mathrm{W\\,m^{-2}}$ but the solar constant in cgs is expressed in units of $\\mathrm{erg\\,s^{-1}\\,cm^{-2}}$. Let's do a little conversion:"
   ]
  },
  {
   "cell_type": "code",
   "execution_count": 52,
   "metadata": {},
   "outputs": [
    {
     "data": {
      "text/latex": [
       "$1361166.5 \\; \\mathrm{\\frac{erg}{s\\,cm^{2}}}$"
      ],
      "text/plain": [
       "<Quantity 1361166.46540858 erg / (cm2 s)>"
      ]
     },
     "execution_count": 52,
     "metadata": {},
     "output_type": "execute_result"
    }
   ],
   "source": [
    "F.to(\"erg s^-1 cm^-2\")"
   ]
  },
  {
   "cell_type": "markdown",
   "metadata": {},
   "source": [
    "This is consistent with the solar flux constant of $1.360\\times10^6\\,\\mathrm{erg\\,s^{-1}\\,cm^{-2}}$."
   ]
  },
  {
   "cell_type": "markdown",
   "metadata": {},
   "source": [
    "As you continue to use Python for more advanced calculations, `astropy.constants` and `astropy.units` will become increasingly more helpful for double-checking your units and knowing if/when a factor is missing in addition to being able to easily convert between unit conventions (e.g., cgs to SI or vice versa)."
   ]
  },
  {
   "cell_type": "markdown",
   "metadata": {},
   "source": [
    "### Coordinate Transformations"
   ]
  },
  {
   "cell_type": "markdown",
   "metadata": {},
   "source": [
    "Sometimes we will work with astronomical coordinates for which we can use the `SkyCoord` subpackage is extremely useful. Let's take a look with an example:\n",
    "\n",
    "First we need to import the `SkyCoord` subpackage. We will also use the `Angle` subpackage to define angles with the appropriate units."
   ]
  },
  {
   "cell_type": "code",
   "execution_count": 38,
   "metadata": {},
   "outputs": [],
   "source": [
    "from astropy.coordinates import SkyCoord # import the SkyCoord subpackage from astropy\n",
    "from astropy.coordinates import Angle    # import the Angle subpackage from astropy"
   ]
  },
  {
   "cell_type": "markdown",
   "metadata": {},
   "source": [
    "Say we have a set of equatorial coordinates (R.A., Dec.) = (22h27m44s, -10d41m15s) that we want to convert to Galactic coordinates (l,b). We can begin by defining these in the sexagesimal system using the `Angle` subpackage."
   ]
  },
  {
   "cell_type": "code",
   "execution_count": 42,
   "metadata": {},
   "outputs": [
    {
     "name": "stdout",
     "output_type": "stream",
     "text": [
      "22h27m44s\n",
      "-10d41m15s\n"
     ]
    }
   ],
   "source": [
    "RA_sexa  = \"22h27m44s\"\n",
    "Dec_sexa = \"-10d41m15s\"\n",
    "\n",
    "RA_deg  = Angle(RA_sexa)\n",
    "Dec_deg = Angle(Dec_sexa)\n",
    "\n",
    "print(RA_deg)\n",
    "print(Dec_deg)"
   ]
  },
  {
   "cell_type": "markdown",
   "metadata": {},
   "source": [
    "With our angles defined using the `Angle` subpackage, Python will recognize these as having the appropriate units (i.e., these are not just \"d\", \"m\", and \"s\" strings!).\n",
    "\n",
    "This allows us to create a `SkyCoords` object, which defines our coordinates in some particular frame. In our case, we are working in equatorial coordinates so the ICRS (International Celestial Reference System) frame should work."
   ]
  },
  {
   "cell_type": "code",
   "execution_count": 52,
   "metadata": {},
   "outputs": [],
   "source": [
    "c_eq = SkyCoord(ra=RA_sexa, dec=Dec_sexa, frame=\"icrs\")"
   ]
  },
  {
   "cell_type": "code",
   "execution_count": 53,
   "metadata": {},
   "outputs": [
    {
     "name": "stdout",
     "output_type": "stream",
     "text": [
      "<SkyCoord (ICRS): (ra, dec) in deg\n",
      "    (336.93333333, -10.6875)>\n"
     ]
    }
   ],
   "source": [
    "print(c_eq)"
   ]
  },
  {
   "cell_type": "markdown",
   "metadata": {},
   "source": [
    "Now we can (finally!) convert this object to coordinates to another frame. To convert equatorial coordinates to Galactic coordinates, we simply change frames:"
   ]
  },
  {
   "cell_type": "code",
   "execution_count": 55,
   "metadata": {},
   "outputs": [],
   "source": [
    "c_gal = c_eq.galactic"
   ]
  },
  {
   "cell_type": "code",
   "execution_count": 56,
   "metadata": {},
   "outputs": [
    {
     "name": "stdout",
     "output_type": "stream",
     "text": [
      "<SkyCoord (Galactic): (l, b) in deg\n",
      "    (51.86629179, -52.44332751)>\n"
     ]
    }
   ],
   "source": [
    "print(c_gal)"
   ]
  },
  {
   "cell_type": "markdown",
   "metadata": {},
   "source": [
    "We can collect the independent Galactic longitude and latitude coordinates by appending `.l` and `.b` to the `SkyCoord` object:"
   ]
  },
  {
   "cell_type": "code",
   "execution_count": 68,
   "metadata": {},
   "outputs": [
    {
     "data": {
      "text/latex": [
       "$51^\\circ51{}^\\prime58.6504{}^{\\prime\\prime}$"
      ],
      "text/plain": [
       "<Longitude 51.86629179 deg>"
      ]
     },
     "execution_count": 68,
     "metadata": {},
     "output_type": "execute_result"
    }
   ],
   "source": [
    "c_gal.l # Galactic longitude in sexagesimal format"
   ]
  },
  {
   "cell_type": "code",
   "execution_count": 67,
   "metadata": {},
   "outputs": [
    {
     "data": {
      "text/latex": [
       "$-52^\\circ26{}^\\prime35.979{}^{\\prime\\prime}$"
      ],
      "text/plain": [
       "<Latitude -52.44332751 deg>"
      ]
     },
     "execution_count": 67,
     "metadata": {},
     "output_type": "execute_result"
    }
   ],
   "source": [
    "c_gal.b # Galactic latitude in sexagesimal format"
   ]
  },
  {
   "cell_type": "markdown",
   "metadata": {},
   "source": [
    "And because they have units, we can easily convert these to degrees:"
   ]
  },
  {
   "cell_type": "code",
   "execution_count": 69,
   "metadata": {},
   "outputs": [
    {
     "data": {
      "text/plain": [
       "51.86629178559857"
      ]
     },
     "execution_count": 69,
     "metadata": {},
     "output_type": "execute_result"
    }
   ],
   "source": [
    "c_gal.l.deg # Galactic longitude in degrees"
   ]
  },
  {
   "cell_type": "code",
   "execution_count": 70,
   "metadata": {},
   "outputs": [
    {
     "data": {
      "text/plain": [
       "-52.44332750918718"
      ]
     },
     "execution_count": 70,
     "metadata": {},
     "output_type": "execute_result"
    }
   ],
   "source": [
    "c_gal.b.deg # Galactic latitude in degrees"
   ]
  }
 ],
 "metadata": {
  "kernelspec": {
   "display_name": "Python 3 (ipykernel)",
   "language": "python",
   "name": "python3"
  },
  "language_info": {
   "codemirror_mode": {
    "name": "ipython",
    "version": 3
   },
   "file_extension": ".py",
   "mimetype": "text/x-python",
   "name": "python",
   "nbconvert_exporter": "python",
   "pygments_lexer": "ipython3",
   "version": "3.8.8"
  }
 },
 "nbformat": 4,
 "nbformat_minor": 2
}
