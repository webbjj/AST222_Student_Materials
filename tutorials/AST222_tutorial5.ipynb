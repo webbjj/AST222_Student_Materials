{
 "cells": [
  {
   "cell_type": "markdown",
   "id": "2a94e275-5276-4f68-a344-00f29f5b102a",
   "metadata": {},
   "source": [
    "## Part 1: Carroll & Ostlie problem 29.9\n",
    "\n",
    "---\n",
    "\n",
    "Consider a _one-component universe of pressureless dust_.\n",
    "\n",
    "**(a)** Show that:\n",
    "$$\\Omega(t) = \\frac{\\rho(t)}{\\rho_c(t)} = 1 + \\frac{kc^2}{(dR/dt)^2} \\tag{29.194}$$\n",
    "which describes how $\\Omega$ varies with time. What does this have to say about the nature of the early universe?\n"
   ]
  },
  {
   "cell_type": "markdown",
   "id": "dace6c68-e9eb-444a-aa67-54d99e3b1e7c",
   "metadata": {},
   "source": [
    "### Sol'n\n",
    "\n",
    "A few different ways to approach this problem. But C&O have done a lot of the hard work for us, already!\n",
    "We know\n",
    "$$ \\Omega(t) = \\frac{\\rho(t)}{\\rho_c(t)} = \\frac{8 \\pi G \\rho(t)}{3 H^2(t)} \\tag{29.18}$$\n",
    "and\n",
    "$$ \\left[ \\left( \\frac{1}{R} \\frac{dR}{dt} \\right)^2 - \\frac{8}{3} \\pi G \\rho \\right] R^2 = -k c^2. \\tag{29.10}$$\n",
    "\n",
    "Rearrange to get\n",
    "$$ 8 \\pi G \\rho(t) = 3\\left( H^2(t) + \\frac{kc^2}{R^2} \\right) $$\n",
    "and substituting this in (29.18) gives:\n",
    "$$ \\Omega(t) = \\frac{3 \\left( H^2(t) + \\frac{kc^2}{R^2} \\right)}{3 H^2(t)} = 1 + \\frac{kc^2}{H^2(t) R^2}.$$\n",
    "\n",
    "Now we can just use the Hubble parameter's definition, $H = (dR/dt)/R$, to get:\n",
    "$$ \\Omega(t) = 1 + \\frac{kc^2}{(dR/dt)^2}.$$\n",
    "\n",
    "**What does this say about the early universe?**"
   ]
  },
  {
   "cell_type": "markdown",
   "id": "efaa1e68-94ab-4488-a5ed-05e641dce950",
   "metadata": {
    "tags": []
   },
   "source": [
    "$dR/dt \\rightarrow \\infty$ as $t \\rightarrow 0$, so the second term above becomes negligible and $\\Omega \\approx 1$ at early times."
   ]
  },
  {
   "cell_type": "markdown",
   "id": "d676d35f-fd1c-4852-96c4-37ed2536e19b",
   "metadata": {},
   "source": [
    "---"
   ]
  },
  {
   "cell_type": "markdown",
   "id": "4132d3d6-47af-4e10-a6c2-4f0a64e2ea52",
   "metadata": {},
   "source": [
    "**(b)** Show that $dR/dt \\rightarrow \\infty$ as $t \\rightarrow 0$. What does this say about the difference between a closed, a flat, and an open universe at very early times?"
   ]
  },
  {
   "cell_type": "markdown",
   "id": "5dc7bb96-7cd3-41e1-9585-fda0b2e393b7",
   "metadata": {},
   "source": [
    "### Sol'n\n",
    "\n",
    "We can use (29.10) from C&O again:\n",
    "$$ \\left[ \\left( \\frac{1}{R} \\frac{dR}{dt} \\right)^2 - \\frac{8}{3} \\pi G \\rho \\right] R^2 = -k c^2. \\tag{29.10}$$\n",
    "$$  \\left( \\frac{dR}{dt} \\right)^2 - \\frac{8 \\pi G \\rho_0}{3R} = -k c^2. \\tag{29.11}$$\n",
    "\n",
    "Now, the RHS is constant.\n",
    "But the second term is proportional to $1/R$ and must diverge as $t \\rightarrow 0$ (since $R \\rightarrow 0$).\n",
    "So for very early times, $dR/dt$ must also diverge to $\\infty$.\n",
    "\n",
    "**What does this say about the difference between a closed, a flat, and an open universe at very early times?**"
   ]
  },
  {
   "cell_type": "markdown",
   "id": "b1968b18-af4a-4835-a039-1d7f21d6ddb6",
   "metadata": {},
   "source": [
    "Since $\\Omega \\rightarrow 1$ (i.e., $\\rho \\rightarrow \\rho_c$) as $t \\rightarrow 0$, closed, flat, and open universes become indistinguishable at very early times!\n",
    "\n",
    "Corollary: small deviations from flatness (\"perturbations in curvature\") grow over time!"
   ]
  },
  {
   "cell_type": "markdown",
   "id": "b85a8099-1d52-4cf5-aeb7-e4ea6c086a73",
   "metadata": {},
   "source": [
    "---"
   ]
  },
  {
   "cell_type": "markdown",
   "id": "19e31a50-3bd0-4b18-87ac-99d2d64717c6",
   "metadata": {},
   "source": [
    "## Part 2: Simulating (matter-only) universes\n",
    "\n",
    "Let's start by simplifying (29.11) a bit.\n",
    "Define:\n",
    "$$\\dot{R} = \\frac{dR}{d(t/t_H)} = H_0^{-1} \\frac{dR}{dt},$$\n",
    "the scale factor's derivative with respect to time, in units of the Hubble time.\n",
    "Then we have (taking $R_0 = 1$):\n",
    "$$ \\dot{R}^2 = \\frac{\\Omega_0}{R} + (1 - \\Omega_0); $$\n",
    "$$ \\dot{R} = \\pm \\sqrt{\\frac{\\Omega_0}{R} + (1 - \\Omega_0)}. \\tag{1}$$"
   ]
  },
  {
   "cell_type": "markdown",
   "id": "3b199458-4069-4403-b132-a44c3f6e2f6a",
   "metadata": {},
   "source": [
    "Finding an analytic relationship between $R$ and $t$ is surprisingly tough, when $\\Omega \\neq 1$ (i.e., $k \\neq 0$).\n",
    "C&O don't bother to even show how to the integral is done, they just give the result in a mysterious parametric form.\n",
    "\n",
    "Let's try to recover the same results as C&O (e.g., Fig 29.5) by numerically simulating a single-component pressureless dust universe.\n",
    "I.e., numerically solving the system of differential equations provided by the Friedmann Equations.\n",
    "\n",
    "Knowing how to do this will be very useful, when we start adding other components to our universe!"
   ]
  },
  {
   "cell_type": "markdown",
   "id": "62200f68-d71c-4b42-b7c0-45604e10e6e8",
   "metadata": {},
   "source": [
    "Can we unambiguously solve for $R(t)$ using equation (1) above?"
   ]
  },
  {
   "cell_type": "markdown",
   "id": "df0c05a0-8455-4db3-a98b-7618cae62466",
   "metadata": {},
   "source": [
    "We don't know the sign of $\\dot R$! So let's add another equation to our system.\n",
    "The acceleration equation:\n",
    "$$ \\frac{d^2R}{dt^2} = - \\frac{4}{3} \\pi G \\rho_m R  = -\\frac{H_0^2 \\Omega_0}{2 R^2}$$ \n",
    "$$ \\ddot{R} = -\\frac{\\Omega_0}{2 R^2} \\tag{2}$$ "
   ]
  },
  {
   "cell_type": "markdown",
   "id": "612d7b75-2554-4626-9538-b8d562ac6b26",
   "metadata": {},
   "source": [
    "Now we're ready to solve our system of ODEs.\n",
    "We could write our own solver, but `scipy` already implements a good one in the `scipy.integrate` module! (Check out the [docs](https://docs.scipy.org/doc/scipy/tutorial/integrate.html#ordinary-differential-equations-solve-ivp)!)\n"
   ]
  },
  {
   "cell_type": "code",
   "execution_count": null,
   "id": "960f886a-9a60-428d-8b69-8ff681434c84",
   "metadata": {},
   "outputs": [],
   "source": [
    "import numpy as np\n",
    "import matplotlib.pyplot as plt\n",
    "from scipy import integrate"
   ]
  },
  {
   "cell_type": "markdown",
   "id": "5cf11761-3912-4cf3-8a9c-d3f35286a88a",
   "metadata": {},
   "source": [
    "`scipy`'s `integrate.solve_ivp` routine will be helpful for us, but only works with first-order (vector) differential equations.\n",
    "So we a slight change of variables to make our system of equations first-order.\n",
    "\n",
    "Let\n",
    "$$ \\mathbf{y} = \\begin{bmatrix} R \\\\ \\dot{R} \\end{bmatrix} $$\n",
    "then we have\n",
    "$$ \\frac{d\\mathbf{y}}{dt} = \\frac{d}{dt} \\begin{bmatrix} R \\\\ \\dot{R} \\end{bmatrix} = \\begin{bmatrix} \\dot{R} \\\\ \\ddot{R} \\end{bmatrix} = \\begin{bmatrix} \\dot{R} \\\\ -\\frac{\\Omega_0}{2R^2} \\end{bmatrix},$$\n",
    "a first-order system in $t$!"
   ]
  },
  {
   "cell_type": "code",
   "execution_count": null,
   "id": "7b146636-541e-4494-b270-b8d2ba1dcf77",
   "metadata": {},
   "outputs": [],
   "source": [
    "# Let's implement our expressions for \\dot{R} and \\ddot{R} in code, with numpy's help...\n",
    "\n",
    "def Rdot(R, Ω0):\n",
    "    # Eq. (1): derivative of scale factor w.r.t. time (in units of the Hubble time)\n",
    "    return np.sqrt(Ω0/R + (1 - Ω0))\n",
    "    \n",
    "def Rddot(R, Ω0):\n",
    "    # Eq. (2): second derivative of scale factor w.r.t. time (in units of the Hubble time)\n",
    "    return -Ω0 / (2 * R**2)\n",
    "\n",
    "def dydt(t, y, Ω0):\n",
    "    # We define y = [R, Rdot]\n",
    "    # So dy/dt = [Rdot, Rddot]\n",
    "    return np.asarray([y[1], Rddot(y[0], Ω0)])"
   ]
  },
  {
   "cell_type": "markdown",
   "id": "c7568667-c80b-4e10-bc52-41deb273eb40",
   "metadata": {},
   "source": [
    "`solve_ivp` can solve the system of ODEs, starting from an initial value/state ($\\mathbf{y_0}$).\n",
    "\n",
    "What's a good starting point in this case?"
   ]
  },
  {
   "cell_type": "code",
   "execution_count": null,
   "id": "da8cab12-fd7c-42fc-bb24-8d13b1a7dbc3",
   "metadata": {},
   "outputs": [],
   "source": [
    "def scale_factor(Ω0=1, tmin=-1, tmax=6, t0=0, max_step=0.1):\n",
    "    \"\"\"Solve for scale factor, as a function of time.\n",
    "    \n",
    "    Parameters\n",
    "    ----------\n",
    "    Ω0 : float\n",
    "        Matter density at time t = t0.\n",
    "    tmin, tmax : float\n",
    "        Solver will stop when it reaches tmin or tmax (in units of the Hubble time)\n",
    "    t0 : float\n",
    "        Initial time, in units of the Hubble time. We assume R(t0) = 1\n",
    "    max_step: float\n",
    "        Maximum step size, in units of the Hubble time.\n",
    "        \n",
    "    Returns\n",
    "    -------\n",
    "    t : array[float]\n",
    "        Times corresponding to each step of the solver, in units of the Hubble time.\n",
    "    R : array[float]\n",
    "        Scale factor at each time step.\n",
    "    \"\"\"\n",
    "    \n",
    "    # initial (t = t0) state; R(t0) = R0 = 1\n",
    "    R0 = 1\n",
    "    y0 = [R0, Rdot(R0, Ω0)]\n",
    "    \n",
    "    # we solve the system of ODEs twice:\n",
    "    \n",
    "    # first, going back in time...\n",
    "    history = integrate.solve_ivp(dydt, (t0, tmin), y0, args=(Ω0,), max_step=max_step)\n",
    "    \n",
    "    # ...and then again, going forward in time\n",
    "    future = integrate.solve_ivp(dydt, (t0, tmax), y0, args=(Ω0,), max_step=max_step)\n",
    "    \n",
    "    # concatenate the results\n",
    "    # (reorder the history values first, so t is ascending)\n",
    "    t = np.append(history.t[::-1], future.t)\n",
    "    R = np.append(history.y[0, ::-1], future.y[0])\n",
    "    \n",
    "    return t, R"
   ]
  },
  {
   "cell_type": "code",
   "execution_count": null,
   "id": "c1a76a52-6b18-4622-821c-0b4c88ed42f0",
   "metadata": {},
   "outputs": [],
   "source": [
    "# cf. C&O Figure 29.5\n",
    "\n",
    "fig, ax = plt.subplots(figsize=(6, 5))\n",
    "\n",
    "ax.plot(*scale_factor(Ω0=0), label='empty')\n",
    "ax.plot(*scale_factor(Ω0=0.5), label='open')\n",
    "ax.plot(*scale_factor(Ω0=1), label='flat')\n",
    "ax.plot(*scale_factor(Ω0=2), label='closed')\n",
    "\n",
    "ax.legend()\n",
    "\n",
    "ax.set_xlabel(r'$(\\Delta t)/t_H$ from present')\n",
    "ax.set_ylabel(r'$R$')\n",
    "\n",
    "fig.tight_layout()"
   ]
  },
  {
   "cell_type": "markdown",
   "id": "7146ba4d-eb31-4fd8-827b-0bc799e8f096",
   "metadata": {},
   "source": [
    "---"
   ]
  },
  {
   "cell_type": "markdown",
   "id": "b118983b-359a-49d4-97d4-fbafd6836490",
   "metadata": {},
   "source": [
    "## Bonus: Simulating multi-component universes"
   ]
  },
  {
   "cell_type": "code",
   "execution_count": null,
   "id": "cdb51d9c-9210-4bc5-9640-76586574e982",
   "metadata": {},
   "outputs": [],
   "source": []
  }
 ],
 "metadata": {
  "kernelspec": {
   "display_name": "Python 3",
   "language": "python",
   "name": "python3"
  },
  "language_info": {
   "codemirror_mode": {
    "name": "ipython",
    "version": 3
   },
   "file_extension": ".py",
   "mimetype": "text/x-python",
   "name": "python",
   "nbconvert_exporter": "python",
   "pygments_lexer": "ipython3",
   "version": "3.9.5"
  }
 },
 "nbformat": 4,
 "nbformat_minor": 5
}
