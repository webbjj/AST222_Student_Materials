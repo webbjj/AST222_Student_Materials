{
 "cells": [
  {
   "cell_type": "code",
   "execution_count": 2,
   "metadata": {},
   "outputs": [],
   "source": [
    "import numpy as np\n",
    "import matplotlib.pyplot as plt\n",
    "import astropy.units as u\n",
    "from astropy import constants as const\n"
   ]
  },
  {
   "cell_type": "markdown",
   "metadata": {},
   "source": [
    "Carroll and Ostlie Exercise 25.20:\n",
    "\n",
    "25.20) According to the virial theorem, the central radial-velocity dispersion is related to the mass and size of the galaxy by $\\sigma_r^2 \\propto M/R$ (see Eq. 25.13 in C&O textbook).  Use arguments similar to those for the Tully-Fisher relation to show that $L\\propto \\sigma_r^4$, which is the Faber-Jackson relation (Eq. 25.40 in C&O textbook).\n"
   ]
  },
  {
   "cell_type": "markdown",
   "metadata": {},
   "source": [
    "25.20) Solution:\n",
    "\n",
    "We're already given the relation $\\sigma_r^2 \\propto M/R$ in the question.  If we square this equation, it becomes $\\sigma_r^4 \\propto M^2/R^2$.  The mass-to-light ratio can be approximated as roughly the same for all elliptical galaxies, so $M/L$ is a constant, $M/L=c$.  Rearranging this gives $M=cL$, and squaring this gives $M^2=c^2 L^2$ - let's call $c^2=q$, also a constant.  Substituting this into the $\\sigma_r$ relation, we get $\\sigma_r^4 \\propto M/R \\propto qL^2/R^2 \\propto L(qL/R^2)$.  The average surface brightness can also be assumed to be constant for elliptical galaxies, so $(qL/R^2)$ is approximately constant as well.  Therefore, $\\sigma_r^4 \\propto L(qL/R^2) \\propto L$.\n",
    "\n",
    "Note: Tully-Fisher relation applies to spiral galaxies, while Faber-Jackson relation applies to elliptical galaxies.\n"
   ]
  },
  {
   "cell_type": "markdown",
   "metadata": {},
   "source": [
    "Carroll and Ostlie Exercise 25.24.\n",
    "\n",
    "25.24) Plot $log_{10} \\phi(M)$, the logarithm of the Schechter luminosity function, for both the local field of galaxies near the Milky Way and the Virgo cluster over the range -23<$M_B$<-12.  Use values of $\\alpha=-1.0$ and $M_B^{\\ast}=-21$."
   ]
  },
  {
   "cell_type": "markdown",
   "metadata": {},
   "source": [
    "b) Solution: \n",
    "\n",
    "Using Eq. (25.46) in C&O, $\\phi(M)dM \\sim 10^{-0.4(\\alpha+1)M}e^{-10^{0.4(M^{\\ast}-M}}dM$\n"
   ]
  },
  {
   "cell_type": "code",
   "execution_count": 10,
   "metadata": {},
   "outputs": [
    {
     "data": {
      "image/png": "[encoded data removed]",
      "text/plain": [
       "<Figure size 432x288 with 1 Axes>"
      ]
     },
     "metadata": {
      "needs_background": "light"
     },
     "output_type": "display_data"
    }
   ],
   "source": [
    "#Part C with astropy\n",
    "M_star = np.linspace(-23.0,-12.0,100)\n",
    "alpha = -1.0\n",
    "Mb_star = -21.0\n",
    "phi = (10**(-0.4*(alpha+1.0)*M_star))*np.exp(-10**(0.4*(Mb_star - M_star)))\n",
    "\n",
    "plt.figure()\n",
    "plt.plot(M_star, np.log10(phi))\n",
    "plt.xlabel(r'$M_b$')\n",
    "plt.ylabel(r'$\\phi(M_b)$')\n",
    "#plt.yscale('log')\n",
    "plt.show()\n"
   ]
  },
  {
   "cell_type": "markdown",
   "metadata": {},
   "source": [
    "Exercise Question: \n",
    "\n",
    "a) A hypothetical galaxy has a mass of 1.0e12$M_{\\odot}$.  For a range of radii [1.0, 5.0]kpc, graph the velocity of an object in orbit.  What is the maximum velocity this galaxy can have?  (Assume the mass in the galaxy has a spherical distribution, and all the mass is located within r $\\leq$ 1kpc)."
   ]
  },
  {
   "cell_type": "markdown",
   "metadata": {},
   "source": [
    "a) Solution:\n",
    "\n",
    "Centripetal acceleration is given by $\\cfrac{v^2}{r}$, gravitational acceleration is given by $F_{gravity}/m = \\bigg( \\frac{GMm}{r^2}\\bigg)/m = \\cfrac{GM}{r^2}$.  Rearranging gives us $\\cfrac{v^2}{r} = \\cfrac{GM}{r^2} \\rightarrow v=\\big[\\frac{GM}{r}\\big]^{1/2}$\n"
   ]
  },
  {
   "cell_type": "code",
   "execution_count": 24,
   "metadata": {},
   "outputs": [
    {
     "name": "stdout",
     "output_type": "stream",
     "text": [
      "2073865.2969844209 m / s\n"
     ]
    },
    {
     "data": {
      "image/png": "[encoded data removed]",
      "text/plain": [
       "<Figure size 432x288 with 1 Axes>"
      ]
     },
     "metadata": {
      "needs_background": "light"
     },
     "output_type": "display_data"
    }
   ],
   "source": [
    "#code and numerical solutions\n",
    "\n",
    "mass = 1.0e12*const.M_sun\n",
    "rs = np.linspace(1.0,5.0,100)\n",
    "radius = (rs*u.kpc).to(u.m)\n",
    "v = np.sqrt(mass*const.G/radius)\n",
    "vmax=np.max(v)\n",
    "\n",
    "print(vmax)\n",
    "\n",
    "plt.figure()\n",
    "plt.plot(radius, v)\n",
    "plt.xscale('log')\n",
    "plt.yscale('log')\n",
    "plt.xlabel('radii')\n",
    "plt.ylabel('velocity')\n",
    "plt.show()"
   ]
  },
  {
   "cell_type": "markdown",
   "metadata": {},
   "source": [
    "b) Assume this galaxy has an apparent bolometric magnitude of 10.0.  What is the absolute bolometric magnitude of this galaxy?"
   ]
  },
  {
   "cell_type": "code",
   "execution_count": 27,
   "metadata": {},
   "outputs": [
    {
     "name": "stdout",
     "output_type": "stream",
     "text": [
      "-33.17458598837962\n"
     ]
    }
   ],
   "source": [
    "#using the formula M_bol = -11(log(v_max)) + 3.31\n",
    "M_bol = -11*np.log10((vmax.to(u.km/u.s)).value) + 3.31\n",
    "print(M_bol)\n"
   ]
  },
  {
   "cell_type": "code",
   "execution_count": null,
   "metadata": {},
   "outputs": [],
   "source": []
  }
 ],
 "metadata": {
  "kernelspec": {
   "display_name": "Python 3",
   "language": "python",
   "name": "python3"
  },
  "language_info": {
   "codemirror_mode": {
    "name": "ipython",
    "version": 3
   },
   "file_extension": ".py",
   "mimetype": "text/x-python",
   "name": "python",
   "nbconvert_exporter": "python",
   "pygments_lexer": "ipython3",
   "version": "3.9.0"
  }
 },
 "nbformat": 4,
 "nbformat_minor": 2
}
