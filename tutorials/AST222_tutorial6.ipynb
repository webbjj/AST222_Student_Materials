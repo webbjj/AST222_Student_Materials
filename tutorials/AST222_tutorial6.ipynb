{
 "cells": [
  {
   "cell_type": "markdown",
   "id": "ff9c5418-0989-49b3-9fa0-d3b84d22aa86",
   "metadata": {},
   "source": [
    "# Part 1: Distances in a changing universe. (C&O 29.4)\n",
    "\n",
    "**Q: How do we define _distance_, in a universe that's changing size/shape?**"
   ]
  },
  {
   "cell_type": "markdown",
   "id": "6615ddfd-91e1-4ca5-9750-23308b27f679",
   "metadata": {},
   "source": [
    "## Proper distance\n",
    "\n",
    "Suppose we observe a galaxy that is far away---sufficiently far away that we can neglect \"local\" perturbations in curvature (from planets, stars, galaxies, etc.).\n",
    "You might ask:\n",
    "\n",
    "> How far away is this galaxy?"
   ]
  },
  {
   "cell_type": "markdown",
   "id": "24ba2723-57f4-46dd-a246-5ef7ed0deafa",
   "metadata": {},
   "source": [
    "In an expanding or contracting universe, that will depend on _when_ we observe it.\n",
    "The distance has changed between the time when light was emitted from the galaxy, $t_\\mathrm{em}$, and when we observe that light, $t_\\mathrm{obs}$.\n",
    "\n",
    "Suppose---at the moment we observe the light---we could momentarily halt the expansion/contraction of the universe, \"freezing\" it in place.\n",
    "Then we lay out a very long tape measure between us and the galaxy.\n",
    "The **proper distance** is the distance we would (hypothetically) measure that way:\n",
    "\n",
    "$$ d_p(t_\\mathrm{obs}) = R(t_\\mathrm{obs}) \\int_{t_\\mathrm{em}}^{t_\\mathrm{obs}} \\frac{c \\cdot dt}{R(t)} $$\n",
    "\n",
    "Note that this is closely related to the concept of the comoving coordinate, $\\varpi = r(t) / R(t)$!"
   ]
  },
  {
   "cell_type": "markdown",
   "id": "23b84ee5-2f42-45a6-b5c4-56793539bc29",
   "metadata": {},
   "source": [
    "### Comoving coordinates\n",
    "\n",
    "Let's consider $d_p(t_0) = d_{p,0}$, where $R(t_0) = 1$ and $R(t_\\mathrm{em}) = (1 + z)^{-1}$.\n",
    "We have:\n",
    "$$ d_p(t_0) = c\\int_{t_\\mathrm{em}}^{t_\\mathrm{0}} \\frac{dt}{R(t)} = -c \\int_{z}^{0} \\frac{dz}{H(z)} =  c \\int_{0}^{z} \\frac{dz}{H(z)}$$"
   ]
  },
  {
   "cell_type": "markdown",
   "id": "6da53c28-9897-42cd-b069-4d3751498c42",
   "metadata": {},
   "source": [
    "In C&O 29.4, its shown that we have:\n",
    "$$d_{p,0} = \\varpi \\quad (\\text{for }k = 0) \\tag{29.148}$$\n",
    "$$d_{p,0} = \\frac{1}{\\sqrt{k}} \\sin^{-1}(\\varpi\\sqrt{k}) \\quad (\\text{for }k > 0) \\tag{29.149}$$\n",
    "$$d_{p,0} = \\frac{1}{\\sqrt{-k}} \\sinh^{-1}(\\varpi\\sqrt{-k}) \\quad (\\text{for }k < 0) \\tag{29.149}$$\n",
    "(These results require a smidge of general relativity.)\n",
    "\n",
    "Defining a dimensionless integral $I(z) = H_0 \\int_0^z \\frac{dz^\\prime}{H(z^\\prime)}$, we find:\n",
    "$$ \\varpi(z) = \\frac{c}{H_0} I(z) \\quad (\\Omega_0 = 1) \\tag{29.170}$$\n",
    "$$ \\varpi(z) = \\frac{c}{H_0 \\sqrt{\\Omega_0 - 1}} \\sin\\left[ I(z) \\sqrt{\\Omega_0 - 1} \\right] \\quad (\\Omega_0 > 1) \\tag{29.171}$$\n",
    "$$ \\varpi(z) = \\frac{c}{H_0 \\sqrt{1 - \\Omega_0}} \\sinh\\left[ I(z) \\sqrt{1 - \\Omega_0} \\right] \\quad (\\Omega_0 < 1) \\tag{29.172}$$\n",
    "\n",
    "For simplicty, let's write $\\varpi(z) = \\frac{c}{H_0} S(z)$."
   ]
  },
  {
   "cell_type": "markdown",
   "id": "4489d468-6547-42db-a055-56d0cc1c35f2",
   "metadata": {
    "tags": []
   },
   "source": [
    "### Brief aside: \"A search for two numbers\" ([Sandage, 1970](https://physicstoday.scitation.org/doi/10.1063/1.3021960))"
   ]
  },
  {
   "cell_type": "markdown",
   "id": "1125c908-c6d1-4791-851b-4da990dba0be",
   "metadata": {
    "tags": []
   },
   "source": [
    "As we've established, finding $R(t)$ can be tough for an arbitrary multi-component universe.\n",
    "So $d_p$ is tough to work with, analytically.\n",
    "\n",
    "Note the Taylor expansion of $1/R(t)$ about $t_0$...\n",
    "\n",
    "$$R(t)^{-1} \\approx \\frac{1}{R_0} + \\left.\\frac{d(R^{-1})}{dt}\\right\\vert_{t=t_0}(t - t_0) + \\frac{1}{2}\\left.\\frac{d^2(R^{-1})}{dt^2}\\right\\vert_{t=t_0}(t - t_0)^2 + \\dots$$\n",
    "$$\\frac{1}{R(t)} \\approx 1 - H_0 (t - t_0) + \\frac{1}{2}(1 + q_0)H_0^2 (t - t_0)^2 + \\dots$$\n",
    "\n",
    "So we approximate distances for objects at the present time with just two values, $H_0$ and $q_0$.\n",
    "In particular, we find:\n",
    "\n",
    "$$ d_p(t_0) \\simeq \\frac{cz}{H_0} \\left[ 1 - \\frac{1}{2}(1 + q_0)z \\right] \\quad (\\text{for }z \\ll 1). \\tag{29.181} $$\n",
    "\n",
    "This a major motivator for all our discussion about $H$ and $q$; they allow us to map an observable quantity, $z$, to a physical value, $d$!"
   ]
  },
  {
   "cell_type": "markdown",
   "id": "fa6047c3-0294-4486-bddc-40311d8bb079",
   "metadata": {},
   "source": [
    "## Luminosity and angular diameter distances\n",
    "\n",
    "What can we use the **proper distance** for?\n",
    "\n",
    "In astronomy, we tend to think about distance as it affects two properties of a source: how bright it is and how large it appears to us.\n",
    "Unfortunately, our intuitions about brightness/flux (the inverse square law: $F \\propto L/d^2$) and angular size ($\\theta = D/d$) don't hold for proper distances in a curved, dynamic universe!"
   ]
  },
  {
   "cell_type": "markdown",
   "id": "f02d884c-652d-42e7-b5eb-1d249365b58c",
   "metadata": {},
   "source": [
    "So we define two new distances.\n",
    "The **luminosity distance**:\n",
    "$$ d_L^2 = \\frac{L}{4 \\pi F} $$\n",
    "and the **angular diameter distance**:\n",
    "$$ d_A = \\frac{D}{\\theta}. $$"
   ]
  },
  {
   "cell_type": "markdown",
   "id": "1bba46b0-b8a0-4449-b0b4-4b66192c59da",
   "metadata": {},
   "source": [
    "### Luminosity distance\n",
    "\n",
    "Consider an isotropic point source at the origin of some comoving coordinate system, $\\varpi = 0$, emitting photons at a constant rate.\n",
    "Some time later, those photons will arrive at the surface of a comoving sphere with radius $\\varpi$.\n",
    "(At present time, the surface area of the sphere will be $4 \\pi \\varpi^2$.)\n",
    "\n",
    "If the luminosity of the source is $L$, what is the flux at the surface of that sphere, $F$?\n",
    "\n",
    "There are two effects related to the expansion/contraction of the universe that we need to consider:\n",
    "1) The energy of each photon is cosmologically redshifted, and **decreased** by a factor of (1 + z).\n",
    "2) The arrival times _between_ photons is **increased**, by a factor of (1 + z).\n",
    "\n",
    "Both effects reduce the flux by the same factor; we have:\n",
    "$$ F = \\frac{L}{4 \\pi \\varpi^2 (1 + z)^2} $$\n",
    "and, by comparison with the definition of the luminosity distance, we have:\n",
    "$$d_L = \\varpi (1 + z) = \\frac{c}{H_0}(1 + z) S(z) \\tag{LD}.$$"
   ]
  },
  {
   "cell_type": "markdown",
   "id": "c398348e-49bb-415e-8a07-7c86fee7c27c",
   "metadata": {},
   "source": [
    "### Angular diameter distance\n",
    "\n",
    "If $D$ represents the size of the object at the time when light was emitted, and $\\theta$ the angular size we observe, we have (again with a smidge of GR):\n",
    "\n",
    "$$ D = R(t_\\mathrm{em}) \\varpi \\theta = \\frac{\\varpi \\theta}{1 + z} = \\frac{c}{H_0} \\frac{S(z) \\theta}{1 + z} .$$\n",
    "\n",
    "And we find the angular diameter distance is:\n",
    "$$ d_A = \\frac{c}{H_0} \\frac{S(z)}{1 + z}. \\tag{AD}$$"
   ]
  },
  {
   "cell_type": "code",
   "execution_count": null,
   "id": "960f886a-9a60-428d-8b69-8ff681434c84",
   "metadata": {},
   "outputs": [],
   "source": [
    "import astropy.constants as const\n",
    "import astropy.units as u\n",
    "import numpy as np\n",
    "import matplotlib.pyplot as plt\n",
    "from scipy import integrate\n",
    "\n",
    "c = const.c"
   ]
  },
  {
   "cell_type": "code",
   "execution_count": null,
   "id": "2161b5d5-be36-4deb-947d-e74d4e51c850",
   "metadata": {},
   "outputs": [],
   "source": [
    "def E(z, Ωm0, Ωr0, ΩΛ0):\n",
    "    \"\"\"Dimensionless Hubble evolution parameter: H(z) = H_0 E(z).\"\"\"\n",
    "    zp1 = (z + 1)\n",
    "    Ωk0 = (1 - Ωm0 - ΩΛ0 - Ωr0)\n",
    "    return np.sqrt(Ωm0 * zp1**3 + Ωr0 * zp1**4 + ΩΛ0 + Ωk0 * zp1**2)\n",
    "\n",
    "def H(z, H0, Ωm0, Ωr0, ΩΛ0):\n",
    "    \"\"\"Hubble parameter as a function of redshift, H(z).\"\"\"\n",
    "    return H0 * E(z, Ωm0, Ωr0, ΩΛ0)\n",
    "\n",
    "def E_inv(*args):\n",
    "    return 1 / E(*args)\n",
    "\n",
    "def I(z, Ωm0, Ωr0, ΩΛ0, zi=0):\n",
    "    \"\"\"Dimensionless integral, defined in C&O (29.168).\"\"\"\n",
    "    try:\n",
    "        return np.asarray([\n",
    "            integrate.quad(E_inv, zi, z_val, args=(Ωm0, Ωr0, ΩΛ0))[0]\n",
    "            for z_val in z\n",
    "        ])\n",
    "    except TypeError:\n",
    "        return integrate.quad(E_inv, zi, z, args=(Ωm0, Ωr0, ΩΛ0))[0]\n",
    "\n",
    "def S(z, H0, Ωm0, Ωr0, ΩΛ0):\n",
    "    \"\"\"Dimensionless comoving distance, defined in C&O (29.173).\"\"\"\n",
    "    Ω0 = Ωm0 + Ωr0 + ΩΛ0\n",
    "    I_value = I(z, Ωm0, Ωr0, ΩΛ0)\n",
    "    \n",
    "    if np.isclose(Ω0, 1): # flat universe\n",
    "        return I_value\n",
    "        \n",
    "    if Ω0 > 1: # closed universe\n",
    "        return np.sin(I_value * np.sqrt(Ω0 - 1)) / np.sqrt(Ω0 - 1)\n",
    "    \n",
    "    # open universe\n",
    "    return np.sinh(I_value * np.sqrt(1 - Ω0)) / np.sqrt(1 - Ω0)"
   ]
  },
  {
   "cell_type": "code",
   "execution_count": null,
   "id": "85e5d984-d59c-459c-8d41-a52cfbc69b49",
   "metadata": {},
   "outputs": [],
   "source": [
    "def luminosity_distance(z, H0, Ωm0, Ωr0, ΩΛ0):\n",
    "    return c * S(z, H0, Ωm0, Ωr0, ΩΛ0) * (z + 1) / H0\n",
    "\n",
    "def angular_diameter_distance(z, H0, Ωm0, Ωr0, ΩΛ0):\n",
    "    return c * S(z, H0, Ωm0, Ωr0, ΩΛ0) / (H0 * (z + 1))\n",
    "\n",
    "def proper_distance(z, H0, Ωm0, Ωr0, ΩΛ0, **kwargs):\n",
    "    return c * I(z, Ωm0, Ωr0, ΩΛ0, **kwargs) / H0"
   ]
  },
  {
   "cell_type": "code",
   "execution_count": null,
   "id": "b51501fa-dbfc-414f-be1a-c81b848a919c",
   "metadata": {},
   "outputs": [],
   "source": [
    "from astropy.cosmology import Planck18  # Planck Collaboration 2018, Paper VI\n",
    "\n",
    "H0 = Planck18.H0\n",
    "Ωm0 = Planck18.Om0\n",
    "ΩΛ0 = Planck18.Ode0\n",
    "Ωr0 = 1 - Ωm0 - ΩΛ0 # assume a flat universe\n",
    "\n",
    "zp1 = np.logspace(0, 2, num=200)\n",
    "z = zp1 - 1\n",
    "\n",
    "dl = luminosity_distance(z, H0, Ωm0, Ωr0, ΩΛ0)\n",
    "da = angular_diameter_distance(z, H0, Ωm0, Ωr0, ΩΛ0)\n",
    "dp = proper_distance(z, H0, Ωm0, Ωr0, ΩΛ0)"
   ]
  },
  {
   "cell_type": "code",
   "execution_count": null,
   "id": "8fb6d455-d184-4d1b-a4ce-670f6975c0ca",
   "metadata": {},
   "outputs": [],
   "source": [
    "fig, ax = plt.subplots()\n",
    "\n",
    "ax.plot(zp1, dp.to(u.Mpc).value, label='$d_p$')\n",
    "ax.plot(zp1, dl.to(u.Mpc).value, label='$d_l$')\n",
    "ax.plot(zp1, da.to(u.Mpc).value, label='$d_a$')\n",
    "\n",
    "ax.legend()\n",
    "ax.set_xlabel('$1 + z$')\n",
    "ax.set_ylabel('distance [Mpc]')\n",
    "\n",
    "ax.set_xscale('log')\n",
    "ax.set_yscale('log')\n",
    "\n",
    "# zoom into low-redshift region...\n",
    "# ax.set_xlim(1, 2)\n",
    "# ax.set_ylim(0, 8e3)\n",
    "\n",
    "fig.tight_layout()"
   ]
  },
  {
   "cell_type": "markdown",
   "id": "c4c003c9-109c-4bc4-91bf-5b1a6f97dc42",
   "metadata": {},
   "source": [
    "---"
   ]
  },
  {
   "cell_type": "markdown",
   "id": "fa74b88b-ecff-4956-8a9c-16f3ebcf0777",
   "metadata": {},
   "source": [
    "# Part 2: Carroll & Ostlie problem 30.11\n",
    "\n",
    "Assuming a ﬂat universe, ﬁnd the angular size of the largest causally connected region of the CMB. Hint: We see this region as it existed at the time of decoupling, when the CMB photons were set free.\n",
    "\n",
    "This problem was briefly discussed in lecture, but let's try and calculate some exact values!"
   ]
  },
  {
   "cell_type": "markdown",
   "id": "1872b154-5ecf-41dd-ad30-32ab839685cf",
   "metadata": {},
   "source": [
    "### Sol'n (analytic approximation)"
   ]
  },
  {
   "cell_type": "markdown",
   "id": "f017d3d9-6cb2-4b74-9db3-aa77bb5b741b",
   "metadata": {},
   "source": [
    "The largest causally connected region has a diamater equal to the horizon distance, $d_h$. So we're looking for the horizon distance at the time of decoupling (\"recombination\"), $d_h(t = t_\\mathrm{rec})$.\n",
    "\n",
    "The horizon distance is just the proper distance, taking $t_\\mathrm{em} = 0$:\n",
    "$$ d_h(t) = R(t) \\int_0^t \\frac{c dt^\\prime}{R(t^\\prime)} $$"
   ]
  },
  {
   "cell_type": "markdown",
   "id": "74c80396-b6d1-482b-9fdd-2cc7369bc6a3",
   "metadata": {},
   "source": [
    "What are some safe assumptions, in this problem (at the time of recombination)?"
   ]
  },
  {
   "cell_type": "markdown",
   "id": "f9108fbe-910d-4a09-a5e8-059e8bef526a",
   "metadata": {},
   "source": [
    "For a matter-dominated universe, we have:\n",
    "$$ d_h(z) = \\frac{2c}{H_0 \\sqrt{\\Omega_{m,0} (1 + z)^3}}\\tag{29.156}$$"
   ]
  },
  {
   "cell_type": "markdown",
   "id": "9d45136e-12fb-4a61-bd7c-967dfe7ce2c3",
   "metadata": {},
   "source": [
    "By definition of the angular diameter distance, the angular size of $d_h(z)$ will be:\n",
    "$$\\theta(z) = \\frac{d_h(z)}{d_A(z)} = \\frac{d_h(z) H_0 (1 + z)}{c S(z)} = \\frac{2}{ S(z) \\sqrt{\\Omega_{m,0}(1 + z)}} $$"
   ]
  },
  {
   "cell_type": "markdown",
   "id": "62de760b-aae9-4f4f-b6c1-761c51948114",
   "metadata": {},
   "source": [
    "In a flat universe,\n",
    "$$S(z_\\mathrm{rec}) = I(z_\\mathrm{rec}) = \\int_0^{z_\\mathrm{rec}} \\frac{dz}{\\sqrt{\\Omega_{r,0} (1 + z)^4 + \\Omega_{m,0} (1 + z)^3 + \\Omega_\\Lambda}}$$\n",
    "\n",
    "That's a tough integral to do, so let's just assume the universe is matter-dominated the whole time...\n",
    "$$S(z_\\mathrm{rec}) \\approx \\int_0^{z_\\mathrm{rec}} \\frac{dz}{\\Omega_{m,0} (1 + z)^3} = \\frac{-2}{\\sqrt{\\Omega_{m,0}}} \\left[ \\frac{1}{\\sqrt{1 + z}} \\right]_{z = 0}^{z=z_\\mathrm{rec}} = \\frac{2}{\\sqrt{\\Omega_{m,0}}}\\left(1 - \\frac{1}{\\sqrt{1 + z_\\mathrm{rec}}} \\right)$$"
   ]
  },
  {
   "cell_type": "markdown",
   "id": "60f06db9-f60f-4431-98fc-af8b84d290be",
   "metadata": {},
   "source": [
    "Finally, the angular size will be:\n",
    "$$\\theta(z_\\mathrm{rec}) = \\frac{2}{ S(z_\\mathrm{rec}) \\sqrt{\\Omega_{m,0}(1 + z_\\mathrm{rec})}} = \\frac{1}{\\sqrt{1 + z_\\mathrm{rec}} - 1} $$"
   ]
  },
  {
   "cell_type": "markdown",
   "id": "1f84ce0a-953d-4abc-b609-b9914c4c3a1f",
   "metadata": {},
   "source": [
    "We know $z_\\mathrm{rec} \\simeq 1100$, so $\\theta(z_\\mathrm{rec}) \\approx 0.03\\text{ rad}$ or about $2\\text{ deg}$."
   ]
  },
  {
   "cell_type": "markdown",
   "id": "04663e42-ce21-4e87-9cd5-dedf7b89b1b3",
   "metadata": {},
   "source": [
    "### Sol'n (numerical)"
   ]
  },
  {
   "cell_type": "code",
   "execution_count": null,
   "id": "61fa8e95-9146-4823-a0fc-7469938dc620",
   "metadata": {},
   "outputs": [],
   "source": [
    "z_rec = 1100\n",
    "\n",
    "def horizon(z, H0, Ωm0, Ωr0, ΩΛ0, **kwargs):\n",
    "    return -proper_distance(z, H0, Ωm0, Ωr0, ΩΛ0, zi=np.inf) / (z + 1)\n",
    "\n",
    "dh_rec = horizon(z_rec, H0, Ωm0, Ωr0, ΩΛ0)\n",
    "da_rec = angular_diameter_distance(z_rec, H0, Ωm0, Ωr0, ΩΛ0)\n",
    "θ_rec = (dh_rec / da_rec) * u.rad\n",
    "\n",
    "print(\n",
    "    \"The angular size of the causally connected region at \"\n",
    "    \"recombination is ~{:.1f}.\".format(θ_rec.to(u.deg))\n",
    ")"
   ]
  },
  {
   "cell_type": "code",
   "execution_count": null,
   "id": "8fcc06b2-2b6e-47df-9d14-1139829eada2",
   "metadata": {},
   "outputs": [],
   "source": []
  }
 ],
 "metadata": {
  "kernelspec": {
   "display_name": "Python 3",
   "language": "python",
   "name": "python3"
  },
  "language_info": {
   "codemirror_mode": {
    "name": "ipython",
    "version": 3
   },
   "file_extension": ".py",
   "mimetype": "text/x-python",
   "name": "python",
   "nbconvert_exporter": "python",
   "pygments_lexer": "ipython3",
   "version": "3.9.5"
  }
 },
 "nbformat": 4,
 "nbformat_minor": 5
}
