{
 "cells": [
  {
   "cell_type": "code",
   "execution_count": 1,
   "metadata": {},
   "outputs": [],
   "source": [
    "import numpy as np\n",
    "import matplotlib.pyplot as plt"
   ]
  },
  {
   "cell_type": "code",
   "execution_count": 3,
   "metadata": {},
   "outputs": [],
   "source": [
    "#Read in data\n",
    "dist,vel=np.loadtxt('FWCdata.dat',unpack=True)"
   ]
  },
  {
   "cell_type": "code",
   "execution_count": 4,
   "metadata": {},
   "outputs": [
    {
     "data": {
      "text/plain": [
       "Text(0, 0.5, 'v (km/s)')"
      ]
     },
     "execution_count": 4,
     "metadata": {},
     "output_type": "execute_result"
    },
    {
     "data": {
      "image/png": "[encoded data removed]",
      "text/plain": [
       "<Figure size 432x288 with 1 Axes>"
      ]
     },
     "metadata": {
      "needs_background": "light"
     },
     "output_type": "display_data"
    }
   ],
   "source": [
    "plt.plot(dist,vel,'.')\n",
    "plt.xlabel('D (Mpc)')\n",
    "plt.ylabel('v (km/s)')"
   ]
  },
  {
   "cell_type": "code",
   "execution_count": 5,
   "metadata": {},
   "outputs": [
    {
     "name": "stdout",
     "output_type": "stream",
     "text": [
      "[ 219.88288672 1985.51027284]\n"
     ]
    }
   ],
   "source": [
    "#Fit data with a straight line\n",
    "fit=np.polyfit(dist,vel,1)\n",
    "print(fit)"
   ]
  },
  {
   "cell_type": "code",
   "execution_count": 6,
   "metadata": {},
   "outputs": [
    {
     "name": "stdout",
     "output_type": "stream",
     "text": [
      "219.88288671538172\n"
     ]
    }
   ],
   "source": [
    "Hubble_Constant=fit[0]\n",
    "print(Hubble_Constant)"
   ]
  },
  {
   "cell_type": "code",
   "execution_count": 7,
   "metadata": {},
   "outputs": [
    {
     "data": {
      "text/plain": [
       "Text(0, 0.5, 'v (km/s)')"
      ]
     },
     "execution_count": 7,
     "metadata": {},
     "output_type": "execute_result"
    },
    {
     "data": {
      "image/png": "[encoded data removed]",
      "text/plain": [
       "<Figure size 432x288 with 1 Axes>"
      ]
     },
     "metadata": {
      "needs_background": "light"
     },
     "output_type": "display_data"
    }
   ],
   "source": [
    "#Plot data with line of best fit\n",
    "\n",
    "#Create array of distances between 0 and 1000 Mpc\n",
    "dist_fit=np.linspace(0,1000,100)\n",
    "#Calculate vel_fit given y=mx+b\n",
    "vel_fit=fit[0]*dist_fit+fit[1]\n",
    "\n",
    "plt.plot(dist,vel,'.')\n",
    "plt.plot(dist_fit,)\n",
    "plt.xlabel('D (Mpc)')\n",
    "plt.ylabel('v (km/s)')"
   ]
  },
  {
   "cell_type": "code",
   "execution_count": 8,
   "metadata": {},
   "outputs": [
    {
     "name": "stdout",
     "output_type": "stream",
     "text": [
      "4.441374647519109\n"
     ]
    }
   ],
   "source": [
    "#Age is simply 1/Hubble_constant. \n",
    "#Note the value must be scaled by number of seconds in a Gyr and number of km in a Mpc to get an answer in Gyr\n",
    "Age=(1./Hubble_Constant)*(3.086e19/3.16e16)\n",
    "print(Age)"
   ]
  },
  {
   "cell_type": "code",
   "execution_count": 9,
   "metadata": {},
   "outputs": [
    {
     "name": "stdout",
     "output_type": "stream",
     "text": [
      "9.079516057920895e-26\n"
     ]
    }
   ],
   "source": [
    "#Solve for the critical density in this Univere\n",
    "pc=3.0*(Hubble_Constant**2.)/(8.0*np.pi*4.302e-3) #Msun/pc * 1/Mpc^2 \n",
    "\n",
    "#Convert to kg/m3\n",
    "\n",
    "pc/=1000000.0 \n",
    "pc/=1000000.0 #Msun / pc^3\n",
    "pc*=1.9891e30 #kg/pc^3\n",
    "pc/=3.086e16\n",
    "pc/=3.086e16\n",
    "pc/=3.086e16 #kg/m3\n",
    "\n",
    "print(pc)"
   ]
  },
  {
   "cell_type": "code",
   "execution_count": 10,
   "metadata": {},
   "outputs": [
    {
     "name": "stdout",
     "output_type": "stream",
     "text": [
      "Open\n"
     ]
    }
   ],
   "source": [
    "#The density of matter equals: 2.56e-27 kg/m3\n",
    "pmatter=pmatter=2.56e-27\n",
    "\n",
    "#Assuming this Universe is made completely of matter, can determine curvature via:\n",
    "if pmatter < pc:\n",
    "    curvature='Open'\n",
    "elif pmatter==pc:\n",
    "    curvature='Flat'\n",
    "else:\n",
    "    curvature='Closed'\n",
    "    \n",
    "print(curvature)"
   ]
  },
  {
   "cell_type": "code",
   "execution_count": null,
   "metadata": {},
   "outputs": [],
   "source": []
  },
  {
   "cell_type": "code",
   "execution_count": null,
   "metadata": {},
   "outputs": [],
   "source": []
  }
 ],
 "metadata": {
  "kernelspec": {
   "display_name": "Python 3",
   "language": "python",
   "name": "python3"
  },
  "language_info": {
   "codemirror_mode": {
    "name": "ipython",
    "version": 3
   },
   "file_extension": ".py",
   "mimetype": "text/x-python",
   "name": "python",
   "nbconvert_exporter": "python",
   "pygments_lexer": "ipython3",
   "version": "3.9.1"
  }
 },
 "nbformat": 4,
 "nbformat_minor": 4
}
